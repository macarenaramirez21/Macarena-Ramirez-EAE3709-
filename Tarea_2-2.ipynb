{
 "cells": [
  {
   "cell_type": "markdown",
   "metadata": {
    "id": "IbwtDKkSJxE9"
   },
   "source": [
    "EAE3709 APLICACIONES DE  MACHINE LEARNING EN ECONOMÍA <br>\n",
    "1ER SEMESTRE 2025 <br>\n",
    "INSTITUTO DE ECONOMÍA <br>\n",
    "PONTIFICIA UNIVERSIDAD CATÓLICA DE CHILE\n",
    "\n",
    "\n",
    "# **TAREA 2**\n",
    "\n",
    "\n",
    "---\n",
    "\n",
    "\n",
    "Profesor:\n",
    "- Joaquín Pérez Lapillo\n",
    "\n",
    "Ayudantes:\n",
    "\n",
    "- Luis García B.\n",
    "- Sebastián Hernández B.\n",
    "- Oscar Herrera G.\n"
   ]
  },
  {
   "cell_type": "markdown",
   "metadata": {
    "id": "xCs4syNLJ9Gh"
   },
   "source": [
    "**Complete sus datos:**\n",
    "\n",
    "- Nombre y apellido:\n",
    "  - `# Completar`\n",
    "  - `# Completar`\n",
    "- Usuario de GitHub (opcional):  `# Completar`\n"
   ]
  },
  {
   "cell_type": "markdown",
   "metadata": {
    "id": "tP_MIjWrKFqN"
   },
   "source": [
    "## Instrucciones\n",
    "\n",
    "- Descargue el notebook y cárguelo en su Drive.\n",
    "- Todas las preguntas deben ser contestadas en su notebook.\n",
    "- Para que una pregunta esté correcta el código debe correr.\n",
    "- Si es necesario, realice comentarios breves en su código explicando lo que está realizando o sus resultados.\n",
    "- Una vez culminada su tarea, suba su notebook al buzón de tareas de Canvas.\n",
    "- La fecha y hora límite de esta tarea es el _**viernes 30 de mayo a las 20:00 hrs**_.\n",
    "\n"
   ]
  },
  {
   "cell_type": "markdown",
   "metadata": {
    "id": "9pYuXYGfJ3a7"
   },
   "source": [
    "### Distribución de puntaje\n",
    "\n",
    "\n",
    "| Pregunta                        | Puntaje |\n",
    "|--------------------------------|---------|\n",
    "| Pregunta 1.0                   |    1    |\n",
    "| Pregunta 1.1                   |    2    |\n",
    "| Pregunta 1.2                   |    2    |\n",
    "| Pregunta 1.3                   |    2    |\n",
    "| Pregunta 1.4                   |    5    |\n",
    "| Pregunta 1.5                   |    5    |\n",
    "| Pregunta 1.6                   |    2    |\n",
    "| Pregunta 1.7                   |    2    |\n",
    "| Pregunta 1.8                   |    3    |\n",
    "| Pregunta 1.9                   |    3    |\n",
    "| Pregunta 1.10                   |    5    |\n",
    "| Pregunta 1.11                   |    5    |\n",
    "| Pregunta 1.12                   |    5    |\n",
    "| Pregunta 1.13                   |    3    |\n",
    "| Pregunta 1.13                   |    5    |\n",
    "| Pregunta 2.0                   |    1    |\n",
    "| Pregunta 2.1                   |    1    |\n",
    "| Pregunta 2.2                   |    1    |\n",
    "| Pregunta 2.3                   |    3    |\n",
    "| Pregunta 2.4                   |    5    |\n",
    "| Pregunta 2.5                   |    3    |\n",
    "| Pregunta 2.6                   |    3    |\n",
    "| Pregunta 2.7                   |    3    |\n",
    "| Pregunta 2.8                   |    5    |\n",
    "| Pregunta 2.9                   |    7    |\n",
    "| Pregunta 2.10                   |    4    |\n",
    "| Pregunta 2.11                   |    3    |\n",
    "| Pregunta 2.12                   |    1    |\n",
    "| Pregunta 2.13                   |    2    |\n",
    "| Pregunta 2.14                   |    3    |\n",
    "| Pregunta 2.15                   |    2    |\n",
    "| Pregunta 2.16                   |    3    |\n",
    "\n",
    "Total: 100 pts.\n"
   ]
  },
  {
   "cell_type": "markdown",
   "metadata": {
    "id": "ta7jj9uDKYE9"
   },
   "source": [
    "# 1. Clasificación\n",
    "\n",
    "En esta pregunta trabajaremos con un _dataset_ que contiene información campañas de marketing de un banco portugués. La campaña se enfocó en llamadas telefónicas a distintos segmentos de clientes, de forma individualizada, con el objetivo incenitvar la toma depósitos por parte de los clientes.\n",
    "\n",
    "El problema presentado en este ejecicio busca predecir si el cliente suscribirá (sí/no) un depósito a plazo.\n",
    "\n",
    "\n",
    "\n",
    "A continuación, se despliega información oficial sobre el _dataset_:\n",
    "\n",
    "| Variable Name | Role    | Type        | Description                                                                                                                               |\n",
    "|---------------|---------|-------------|-------------------------------------------------------------------------------------------------------------------------------------------|\n",
    "| age           | Feature | Integer     |     years of age                                                                                                                                      |\n",
    "| job           | Feature | Categorical | type of job |\n",
    "| marital       | Feature | Categorical | marital status                          |\n",
    "| education     | Feature | Categorical | Education level         |\n",
    "| default       | Feature | Binary      | has credit in default?                                                                                                                    |\n",
    "| balance       | Feature | Integer     | average yearly balance in euros                                                                                                                    |\n",
    "| housing       | Feature | Binary      | has housing loan?                                                                                                                         |\n",
    "| loan          | Feature | Binary      | has personal loan?                                                                                                                        |\n",
    "| contact       | Feature | Categorical | contact communication type                                                                         |\n",
    "| day_of_week   | Feature | Date        | last contact day of the month (numeric)                                                                                                              |\n",
    "| month         | Feature | Date        | last contact month of year (categorical: 'jan', 'feb', 'mar', ..., 'nov', 'dec')                                                          |\n",
    "| duration*      | Feature | Integer     | last contact duration, in seconds (numeric).  |\n",
    "| campaign      | Feature | Integer     | number of contacts performed during this campaign and for this client                                      |\n",
    "| pdays         | Feature | Integer     | number of days that passed by after the client was last contacted from a previous campaign (numeric; -1 means client was not previously contacted) |\n",
    "| previous      | Feature | Integer     | number of contacts performed before this campaign and for this client                                                                       |\n",
    "| poutcome      | Feature | Categorical | outcome of the previous marketing campaign                                                |\n",
    "| y             | Target  | Binary      | has the client subscribed a term deposit?                                                                                                 |\n",
    "\n",
    "\n",
    "*Important note: this attribute highly affects the output target (e.g., if duration=0 then y='no'). Yet, the duration is not known before a call is performed. Also, after the end of the call y is obviously known. Thus, this input should only be included for benchmark purposes and should be discarded if the intention is to have a realistic predictive model.\n",
    "\n"
   ]
  },
  {
   "cell_type": "markdown",
   "metadata": {
    "id": "har2GXmULidn"
   },
   "source": [
    "En el sitio web [https://archive.ics.uci.edu/dataset/222/bank+marketing](https://archive.ics.uci.edu/dataset/222/bank+marketing) podrá encontrar información oficial del _dataset_.\n",
    "\n",
    "Use el código otorgado a continuación para importar los datos.\n"
   ]
  },
  {
   "cell_type": "code",
   "execution_count": 11,
   "metadata": {
    "colab": {
     "base_uri": "https://localhost:8080/"
    },
    "id": "BCZqCx5m1hAM",
    "outputId": "fee88b93-79dd-4b15-d2de-228989c73630"
   },
   "outputs": [
    {
     "name": "stdout",
     "output_type": "stream",
     "text": [
      "Requirement already satisfied: ucimlrepo in /opt/anaconda3/envs/eae253/lib/python3.10/site-packages (0.0.7)\n",
      "Requirement already satisfied: pandas>=1.0.0 in /opt/anaconda3/envs/eae253/lib/python3.10/site-packages (from ucimlrepo) (2.2.3)\n",
      "Requirement already satisfied: certifi>=2020.12.5 in /opt/anaconda3/envs/eae253/lib/python3.10/site-packages (from ucimlrepo) (2025.1.31)\n",
      "Requirement already satisfied: numpy>=1.22.4 in /opt/anaconda3/envs/eae253/lib/python3.10/site-packages (from pandas>=1.0.0->ucimlrepo) (1.26.4)\n",
      "Requirement already satisfied: python-dateutil>=2.8.2 in /opt/anaconda3/envs/eae253/lib/python3.10/site-packages (from pandas>=1.0.0->ucimlrepo) (2.9.0)\n",
      "Requirement already satisfied: pytz>=2020.1 in /opt/anaconda3/envs/eae253/lib/python3.10/site-packages (from pandas>=1.0.0->ucimlrepo) (2024.1)\n",
      "Requirement already satisfied: tzdata>=2022.7 in /opt/anaconda3/envs/eae253/lib/python3.10/site-packages (from pandas>=1.0.0->ucimlrepo) (2024.2)\n",
      "Requirement already satisfied: six>=1.5 in /opt/anaconda3/envs/eae253/lib/python3.10/site-packages (from python-dateutil>=2.8.2->pandas>=1.0.0->ucimlrepo) (1.16.0)\n",
      "Note: you may need to restart the kernel to use updated packages.\n"
     ]
    }
   ],
   "source": [
    "pip install ucimlrepo"
   ]
  },
  {
   "cell_type": "code",
   "execution_count": 12,
   "metadata": {
    "id": "ZT4BhuBqoPnZ"
   },
   "outputs": [],
   "source": [
    "from ucimlrepo import fetch_ucirepo\n",
    "\n",
    "# fetch dataset\n",
    "bank_marketing = fetch_ucirepo(id=222)\n",
    "\n",
    "# data (as pandas dataframes)\n",
    "X = bank_marketing.data.features\n",
    "y = bank_marketing.data.targets\n"
   ]
  },
  {
   "cell_type": "markdown",
   "metadata": {
    "id": "gZqBWZNoR8tT"
   },
   "source": [
    "## Exploratory Data Analysis (EDA)"
   ]
  },
  {
   "cell_type": "markdown",
   "metadata": {
    "id": "xno35JpIM78W"
   },
   "source": [
    "### Pregunta 1.0\n",
    "\n",
    "Concatene `X` e `y` en un dataframe consolidado.\n",
    "\n",
    "Muestre las primeras cinco observaciones en el dataframe consolidado. Despliegue información sobre el tipo de variable de cada una de las columnas del dataframe y despliegue estadísticas descriptivas de las variables según su tipo."
   ]
  },
  {
   "cell_type": "code",
   "execution_count": 13,
   "metadata": {
    "id": "SOkOwosvmRGG"
   },
   "outputs": [
    {
     "data": {
      "application/vnd.microsoft.datawrangler.viewer.v0+json": {
       "columns": [
        {
         "name": "index",
         "rawType": "int64",
         "type": "integer"
        },
        {
         "name": "age",
         "rawType": "int64",
         "type": "integer"
        },
        {
         "name": "job",
         "rawType": "object",
         "type": "unknown"
        },
        {
         "name": "marital",
         "rawType": "object",
         "type": "string"
        },
        {
         "name": "education",
         "rawType": "object",
         "type": "unknown"
        },
        {
         "name": "default",
         "rawType": "object",
         "type": "string"
        },
        {
         "name": "balance",
         "rawType": "int64",
         "type": "integer"
        },
        {
         "name": "housing",
         "rawType": "object",
         "type": "string"
        },
        {
         "name": "loan",
         "rawType": "object",
         "type": "string"
        },
        {
         "name": "contact",
         "rawType": "object",
         "type": "unknown"
        },
        {
         "name": "day_of_week",
         "rawType": "int64",
         "type": "integer"
        },
        {
         "name": "month",
         "rawType": "object",
         "type": "string"
        },
        {
         "name": "duration",
         "rawType": "int64",
         "type": "integer"
        },
        {
         "name": "campaign",
         "rawType": "int64",
         "type": "integer"
        },
        {
         "name": "pdays",
         "rawType": "int64",
         "type": "integer"
        },
        {
         "name": "previous",
         "rawType": "int64",
         "type": "integer"
        },
        {
         "name": "poutcome",
         "rawType": "object",
         "type": "unknown"
        },
        {
         "name": "y",
         "rawType": "object",
         "type": "string"
        }
       ],
       "ref": "b5f67a2c-4a64-44dd-975d-6c17dc745b78",
       "rows": [
        [
         "0",
         "58",
         "management",
         "married",
         "tertiary",
         "no",
         "2143",
         "yes",
         "no",
         null,
         "5",
         "may",
         "261",
         "1",
         "-1",
         "0",
         null,
         "no"
        ],
        [
         "1",
         "44",
         "technician",
         "single",
         "secondary",
         "no",
         "29",
         "yes",
         "no",
         null,
         "5",
         "may",
         "151",
         "1",
         "-1",
         "0",
         null,
         "no"
        ],
        [
         "2",
         "33",
         "entrepreneur",
         "married",
         "secondary",
         "no",
         "2",
         "yes",
         "yes",
         null,
         "5",
         "may",
         "76",
         "1",
         "-1",
         "0",
         null,
         "no"
        ],
        [
         "3",
         "47",
         "blue-collar",
         "married",
         null,
         "no",
         "1506",
         "yes",
         "no",
         null,
         "5",
         "may",
         "92",
         "1",
         "-1",
         "0",
         null,
         "no"
        ],
        [
         "4",
         "33",
         null,
         "single",
         null,
         "no",
         "1",
         "no",
         "no",
         null,
         "5",
         "may",
         "198",
         "1",
         "-1",
         "0",
         null,
         "no"
        ]
       ],
       "shape": {
        "columns": 17,
        "rows": 5
       }
      },
      "text/html": [
       "<div>\n",
       "<style scoped>\n",
       "    .dataframe tbody tr th:only-of-type {\n",
       "        vertical-align: middle;\n",
       "    }\n",
       "\n",
       "    .dataframe tbody tr th {\n",
       "        vertical-align: top;\n",
       "    }\n",
       "\n",
       "    .dataframe thead th {\n",
       "        text-align: right;\n",
       "    }\n",
       "</style>\n",
       "<table border=\"1\" class=\"dataframe\">\n",
       "  <thead>\n",
       "    <tr style=\"text-align: right;\">\n",
       "      <th></th>\n",
       "      <th>age</th>\n",
       "      <th>job</th>\n",
       "      <th>marital</th>\n",
       "      <th>education</th>\n",
       "      <th>default</th>\n",
       "      <th>balance</th>\n",
       "      <th>housing</th>\n",
       "      <th>loan</th>\n",
       "      <th>contact</th>\n",
       "      <th>day_of_week</th>\n",
       "      <th>month</th>\n",
       "      <th>duration</th>\n",
       "      <th>campaign</th>\n",
       "      <th>pdays</th>\n",
       "      <th>previous</th>\n",
       "      <th>poutcome</th>\n",
       "      <th>y</th>\n",
       "    </tr>\n",
       "  </thead>\n",
       "  <tbody>\n",
       "    <tr>\n",
       "      <th>0</th>\n",
       "      <td>58</td>\n",
       "      <td>management</td>\n",
       "      <td>married</td>\n",
       "      <td>tertiary</td>\n",
       "      <td>no</td>\n",
       "      <td>2143</td>\n",
       "      <td>yes</td>\n",
       "      <td>no</td>\n",
       "      <td>NaN</td>\n",
       "      <td>5</td>\n",
       "      <td>may</td>\n",
       "      <td>261</td>\n",
       "      <td>1</td>\n",
       "      <td>-1</td>\n",
       "      <td>0</td>\n",
       "      <td>NaN</td>\n",
       "      <td>no</td>\n",
       "    </tr>\n",
       "    <tr>\n",
       "      <th>1</th>\n",
       "      <td>44</td>\n",
       "      <td>technician</td>\n",
       "      <td>single</td>\n",
       "      <td>secondary</td>\n",
       "      <td>no</td>\n",
       "      <td>29</td>\n",
       "      <td>yes</td>\n",
       "      <td>no</td>\n",
       "      <td>NaN</td>\n",
       "      <td>5</td>\n",
       "      <td>may</td>\n",
       "      <td>151</td>\n",
       "      <td>1</td>\n",
       "      <td>-1</td>\n",
       "      <td>0</td>\n",
       "      <td>NaN</td>\n",
       "      <td>no</td>\n",
       "    </tr>\n",
       "    <tr>\n",
       "      <th>2</th>\n",
       "      <td>33</td>\n",
       "      <td>entrepreneur</td>\n",
       "      <td>married</td>\n",
       "      <td>secondary</td>\n",
       "      <td>no</td>\n",
       "      <td>2</td>\n",
       "      <td>yes</td>\n",
       "      <td>yes</td>\n",
       "      <td>NaN</td>\n",
       "      <td>5</td>\n",
       "      <td>may</td>\n",
       "      <td>76</td>\n",
       "      <td>1</td>\n",
       "      <td>-1</td>\n",
       "      <td>0</td>\n",
       "      <td>NaN</td>\n",
       "      <td>no</td>\n",
       "    </tr>\n",
       "    <tr>\n",
       "      <th>3</th>\n",
       "      <td>47</td>\n",
       "      <td>blue-collar</td>\n",
       "      <td>married</td>\n",
       "      <td>NaN</td>\n",
       "      <td>no</td>\n",
       "      <td>1506</td>\n",
       "      <td>yes</td>\n",
       "      <td>no</td>\n",
       "      <td>NaN</td>\n",
       "      <td>5</td>\n",
       "      <td>may</td>\n",
       "      <td>92</td>\n",
       "      <td>1</td>\n",
       "      <td>-1</td>\n",
       "      <td>0</td>\n",
       "      <td>NaN</td>\n",
       "      <td>no</td>\n",
       "    </tr>\n",
       "    <tr>\n",
       "      <th>4</th>\n",
       "      <td>33</td>\n",
       "      <td>NaN</td>\n",
       "      <td>single</td>\n",
       "      <td>NaN</td>\n",
       "      <td>no</td>\n",
       "      <td>1</td>\n",
       "      <td>no</td>\n",
       "      <td>no</td>\n",
       "      <td>NaN</td>\n",
       "      <td>5</td>\n",
       "      <td>may</td>\n",
       "      <td>198</td>\n",
       "      <td>1</td>\n",
       "      <td>-1</td>\n",
       "      <td>0</td>\n",
       "      <td>NaN</td>\n",
       "      <td>no</td>\n",
       "    </tr>\n",
       "  </tbody>\n",
       "</table>\n",
       "</div>"
      ],
      "text/plain": [
       "   age           job  marital  education default  balance housing loan  \\\n",
       "0   58    management  married   tertiary      no     2143     yes   no   \n",
       "1   44    technician   single  secondary      no       29     yes   no   \n",
       "2   33  entrepreneur  married  secondary      no        2     yes  yes   \n",
       "3   47   blue-collar  married        NaN      no     1506     yes   no   \n",
       "4   33           NaN   single        NaN      no        1      no   no   \n",
       "\n",
       "  contact  day_of_week month  duration  campaign  pdays  previous poutcome   y  \n",
       "0     NaN            5   may       261         1     -1         0      NaN  no  \n",
       "1     NaN            5   may       151         1     -1         0      NaN  no  \n",
       "2     NaN            5   may        76         1     -1         0      NaN  no  \n",
       "3     NaN            5   may        92         1     -1         0      NaN  no  \n",
       "4     NaN            5   may       198         1     -1         0      NaN  no  "
      ]
     },
     "execution_count": 13,
     "metadata": {},
     "output_type": "execute_result"
    }
   ],
   "source": [
    "import pandas as pd\n",
    "\n",
    "df = pd.merge(X, y, left_index=True, right_index=True)\n",
    "\n",
    "df.head()\n"
   ]
  },
  {
   "cell_type": "code",
   "execution_count": 14,
   "metadata": {},
   "outputs": [
    {
     "data": {
      "application/vnd.microsoft.datawrangler.viewer.v0+json": {
       "columns": [
        {
         "name": "index",
         "rawType": "object",
         "type": "string"
        },
        {
         "name": "0",
         "rawType": "object",
         "type": "unknown"
        }
       ],
       "ref": "21ccbb45-6df4-497a-8062-c5ab14557287",
       "rows": [
        [
         "age",
         "int64"
        ],
        [
         "job",
         "object"
        ],
        [
         "marital",
         "object"
        ],
        [
         "education",
         "object"
        ],
        [
         "default",
         "object"
        ],
        [
         "balance",
         "int64"
        ],
        [
         "housing",
         "object"
        ],
        [
         "loan",
         "object"
        ],
        [
         "contact",
         "object"
        ],
        [
         "day_of_week",
         "int64"
        ],
        [
         "month",
         "object"
        ],
        [
         "duration",
         "int64"
        ],
        [
         "campaign",
         "int64"
        ],
        [
         "pdays",
         "int64"
        ],
        [
         "previous",
         "int64"
        ],
        [
         "poutcome",
         "object"
        ],
        [
         "y",
         "object"
        ]
       ],
       "shape": {
        "columns": 1,
        "rows": 17
       }
      },
      "text/plain": [
       "age             int64\n",
       "job            object\n",
       "marital        object\n",
       "education      object\n",
       "default        object\n",
       "balance         int64\n",
       "housing        object\n",
       "loan           object\n",
       "contact        object\n",
       "day_of_week     int64\n",
       "month          object\n",
       "duration        int64\n",
       "campaign        int64\n",
       "pdays           int64\n",
       "previous        int64\n",
       "poutcome       object\n",
       "y              object\n",
       "dtype: object"
      ]
     },
     "execution_count": 14,
     "metadata": {},
     "output_type": "execute_result"
    }
   ],
   "source": [
    "df.dtypes"
   ]
  },
  {
   "cell_type": "code",
   "execution_count": 15,
   "metadata": {},
   "outputs": [
    {
     "data": {
      "application/vnd.microsoft.datawrangler.viewer.v0+json": {
       "columns": [
        {
         "name": "index",
         "rawType": "object",
         "type": "string"
        },
        {
         "name": "age",
         "rawType": "float64",
         "type": "float"
        },
        {
         "name": "balance",
         "rawType": "float64",
         "type": "float"
        },
        {
         "name": "day_of_week",
         "rawType": "float64",
         "type": "float"
        },
        {
         "name": "duration",
         "rawType": "float64",
         "type": "float"
        },
        {
         "name": "campaign",
         "rawType": "float64",
         "type": "float"
        },
        {
         "name": "pdays",
         "rawType": "float64",
         "type": "float"
        },
        {
         "name": "previous",
         "rawType": "float64",
         "type": "float"
        }
       ],
       "ref": "6abf4ca4-a8f3-4dd0-9dd5-4dfd8522b55b",
       "rows": [
        [
         "count",
         "45211.0",
         "45211.0",
         "45211.0",
         "45211.0",
         "45211.0",
         "45211.0",
         "45211.0"
        ],
        [
         "mean",
         "40.93621021432837",
         "1362.2720576850766",
         "15.80641879188693",
         "258.1630797814691",
         "2.763840658246887",
         "40.19782796222158",
         "0.5803233726305546"
        ],
        [
         "std",
         "10.61876204097542",
         "3044.765829168518",
         "8.322476153044592",
         "257.5278122651719",
         "3.0980208832791694",
         "100.12874599059835",
         "2.3034410449312213"
        ],
        [
         "min",
         "18.0",
         "-8019.0",
         "1.0",
         "0.0",
         "1.0",
         "-1.0",
         "0.0"
        ],
        [
         "25%",
         "33.0",
         "72.0",
         "8.0",
         "103.0",
         "1.0",
         "-1.0",
         "0.0"
        ],
        [
         "50%",
         "39.0",
         "448.0",
         "16.0",
         "180.0",
         "2.0",
         "-1.0",
         "0.0"
        ],
        [
         "75%",
         "48.0",
         "1428.0",
         "21.0",
         "319.0",
         "3.0",
         "-1.0",
         "0.0"
        ],
        [
         "max",
         "95.0",
         "102127.0",
         "31.0",
         "4918.0",
         "63.0",
         "871.0",
         "275.0"
        ]
       ],
       "shape": {
        "columns": 7,
        "rows": 8
       }
      },
      "text/html": [
       "<div>\n",
       "<style scoped>\n",
       "    .dataframe tbody tr th:only-of-type {\n",
       "        vertical-align: middle;\n",
       "    }\n",
       "\n",
       "    .dataframe tbody tr th {\n",
       "        vertical-align: top;\n",
       "    }\n",
       "\n",
       "    .dataframe thead th {\n",
       "        text-align: right;\n",
       "    }\n",
       "</style>\n",
       "<table border=\"1\" class=\"dataframe\">\n",
       "  <thead>\n",
       "    <tr style=\"text-align: right;\">\n",
       "      <th></th>\n",
       "      <th>age</th>\n",
       "      <th>balance</th>\n",
       "      <th>day_of_week</th>\n",
       "      <th>duration</th>\n",
       "      <th>campaign</th>\n",
       "      <th>pdays</th>\n",
       "      <th>previous</th>\n",
       "    </tr>\n",
       "  </thead>\n",
       "  <tbody>\n",
       "    <tr>\n",
       "      <th>count</th>\n",
       "      <td>45211.000000</td>\n",
       "      <td>45211.000000</td>\n",
       "      <td>45211.000000</td>\n",
       "      <td>45211.000000</td>\n",
       "      <td>45211.000000</td>\n",
       "      <td>45211.000000</td>\n",
       "      <td>45211.000000</td>\n",
       "    </tr>\n",
       "    <tr>\n",
       "      <th>mean</th>\n",
       "      <td>40.936210</td>\n",
       "      <td>1362.272058</td>\n",
       "      <td>15.806419</td>\n",
       "      <td>258.163080</td>\n",
       "      <td>2.763841</td>\n",
       "      <td>40.197828</td>\n",
       "      <td>0.580323</td>\n",
       "    </tr>\n",
       "    <tr>\n",
       "      <th>std</th>\n",
       "      <td>10.618762</td>\n",
       "      <td>3044.765829</td>\n",
       "      <td>8.322476</td>\n",
       "      <td>257.527812</td>\n",
       "      <td>3.098021</td>\n",
       "      <td>100.128746</td>\n",
       "      <td>2.303441</td>\n",
       "    </tr>\n",
       "    <tr>\n",
       "      <th>min</th>\n",
       "      <td>18.000000</td>\n",
       "      <td>-8019.000000</td>\n",
       "      <td>1.000000</td>\n",
       "      <td>0.000000</td>\n",
       "      <td>1.000000</td>\n",
       "      <td>-1.000000</td>\n",
       "      <td>0.000000</td>\n",
       "    </tr>\n",
       "    <tr>\n",
       "      <th>25%</th>\n",
       "      <td>33.000000</td>\n",
       "      <td>72.000000</td>\n",
       "      <td>8.000000</td>\n",
       "      <td>103.000000</td>\n",
       "      <td>1.000000</td>\n",
       "      <td>-1.000000</td>\n",
       "      <td>0.000000</td>\n",
       "    </tr>\n",
       "    <tr>\n",
       "      <th>50%</th>\n",
       "      <td>39.000000</td>\n",
       "      <td>448.000000</td>\n",
       "      <td>16.000000</td>\n",
       "      <td>180.000000</td>\n",
       "      <td>2.000000</td>\n",
       "      <td>-1.000000</td>\n",
       "      <td>0.000000</td>\n",
       "    </tr>\n",
       "    <tr>\n",
       "      <th>75%</th>\n",
       "      <td>48.000000</td>\n",
       "      <td>1428.000000</td>\n",
       "      <td>21.000000</td>\n",
       "      <td>319.000000</td>\n",
       "      <td>3.000000</td>\n",
       "      <td>-1.000000</td>\n",
       "      <td>0.000000</td>\n",
       "    </tr>\n",
       "    <tr>\n",
       "      <th>max</th>\n",
       "      <td>95.000000</td>\n",
       "      <td>102127.000000</td>\n",
       "      <td>31.000000</td>\n",
       "      <td>4918.000000</td>\n",
       "      <td>63.000000</td>\n",
       "      <td>871.000000</td>\n",
       "      <td>275.000000</td>\n",
       "    </tr>\n",
       "  </tbody>\n",
       "</table>\n",
       "</div>"
      ],
      "text/plain": [
       "                age        balance   day_of_week      duration      campaign  \\\n",
       "count  45211.000000   45211.000000  45211.000000  45211.000000  45211.000000   \n",
       "mean      40.936210    1362.272058     15.806419    258.163080      2.763841   \n",
       "std       10.618762    3044.765829      8.322476    257.527812      3.098021   \n",
       "min       18.000000   -8019.000000      1.000000      0.000000      1.000000   \n",
       "25%       33.000000      72.000000      8.000000    103.000000      1.000000   \n",
       "50%       39.000000     448.000000     16.000000    180.000000      2.000000   \n",
       "75%       48.000000    1428.000000     21.000000    319.000000      3.000000   \n",
       "max       95.000000  102127.000000     31.000000   4918.000000     63.000000   \n",
       "\n",
       "              pdays      previous  \n",
       "count  45211.000000  45211.000000  \n",
       "mean      40.197828      0.580323  \n",
       "std      100.128746      2.303441  \n",
       "min       -1.000000      0.000000  \n",
       "25%       -1.000000      0.000000  \n",
       "50%       -1.000000      0.000000  \n",
       "75%       -1.000000      0.000000  \n",
       "max      871.000000    275.000000  "
      ]
     },
     "execution_count": 15,
     "metadata": {},
     "output_type": "execute_result"
    }
   ],
   "source": [
    "df.select_dtypes(include=['int64', 'float64']).describe()"
   ]
  },
  {
   "cell_type": "code",
   "execution_count": 16,
   "metadata": {},
   "outputs": [
    {
     "name": "stdout",
     "output_type": "stream",
     "text": [
      "job\n",
      "blue-collar      0.217\n",
      "management       0.211\n",
      "technician       0.169\n",
      "admin.           0.115\n",
      "services         0.092\n",
      "retired          0.050\n",
      "self-employed    0.035\n",
      "entrepreneur     0.033\n",
      "unemployed       0.029\n",
      "housemaid        0.028\n",
      "student          0.021\n",
      "Name: proportion, dtype: float64\n",
      "job\n",
      "blue-collar      9732\n",
      "management       9458\n",
      "technician       7597\n",
      "admin.           5171\n",
      "services         4154\n",
      "retired          2264\n",
      "self-employed    1579\n",
      "entrepreneur     1487\n",
      "unemployed       1303\n",
      "housemaid        1240\n",
      "student           938\n",
      "Name: count, dtype: int64\n",
      "marital\n",
      "married     0.602\n",
      "single      0.283\n",
      "divorced    0.115\n",
      "Name: proportion, dtype: float64\n",
      "marital\n",
      "married     27214\n",
      "single      12790\n",
      "divorced     5207\n",
      "Name: count, dtype: int64\n",
      "education\n",
      "secondary    0.535\n",
      "tertiary     0.307\n",
      "primary      0.158\n",
      "Name: proportion, dtype: float64\n",
      "education\n",
      "secondary    23202\n",
      "tertiary     13301\n",
      "primary       6851\n",
      "Name: count, dtype: int64\n",
      "default\n",
      "no     0.982\n",
      "yes    0.018\n",
      "Name: proportion, dtype: float64\n",
      "default\n",
      "no     44396\n",
      "yes      815\n",
      "Name: count, dtype: int64\n",
      "housing\n",
      "yes    0.556\n",
      "no     0.444\n",
      "Name: proportion, dtype: float64\n",
      "housing\n",
      "yes    25130\n",
      "no     20081\n",
      "Name: count, dtype: int64\n",
      "loan\n",
      "no     0.84\n",
      "yes    0.16\n",
      "Name: proportion, dtype: float64\n",
      "loan\n",
      "no     37967\n",
      "yes     7244\n",
      "Name: count, dtype: int64\n",
      "contact\n",
      "cellular     0.91\n",
      "telephone    0.09\n",
      "Name: proportion, dtype: float64\n",
      "contact\n",
      "cellular     29285\n",
      "telephone     2906\n",
      "Name: count, dtype: int64\n",
      "month\n",
      "may    0.304\n",
      "jul    0.153\n",
      "aug    0.138\n",
      "jun    0.118\n",
      "nov    0.088\n",
      "apr    0.065\n",
      "feb    0.059\n",
      "jan    0.031\n",
      "oct    0.016\n",
      "sep    0.013\n",
      "mar    0.011\n",
      "dec    0.005\n",
      "Name: proportion, dtype: float64\n",
      "month\n",
      "may    13766\n",
      "jul     6895\n",
      "aug     6247\n",
      "jun     5341\n",
      "nov     3970\n",
      "apr     2932\n",
      "feb     2649\n",
      "jan     1403\n",
      "oct      738\n",
      "sep      579\n",
      "mar      477\n",
      "dec      214\n",
      "Name: count, dtype: int64\n",
      "poutcome\n",
      "failure    0.594\n",
      "other      0.223\n",
      "success    0.183\n",
      "Name: proportion, dtype: float64\n",
      "poutcome\n",
      "failure    4901\n",
      "other      1840\n",
      "success    1511\n",
      "Name: count, dtype: int64\n",
      "y\n",
      "no     0.883\n",
      "yes    0.117\n",
      "Name: proportion, dtype: float64\n",
      "y\n",
      "no     39922\n",
      "yes     5289\n",
      "Name: count, dtype: int64\n"
     ]
    }
   ],
   "source": [
    "for col in df.select_dtypes(include='object').columns:\n",
    "    print(df[col].value_counts(normalize=True).round(3))\n",
    "    print(df[col].value_counts())\n"
   ]
  },
  {
   "cell_type": "markdown",
   "metadata": {
    "id": "DK99OFP2KUss"
   },
   "source": [
    "### Pregunta 1.1\n",
    "\n",
    "Identifique las columnas que presentan _missing values_ e indique el número de _missing values_ que poseen.\n",
    "\n",
    "Impute los valores nulos con el método que estime conveniente, justificando su decisión."
   ]
  },
  {
   "cell_type": "code",
   "execution_count": 17,
   "metadata": {
    "id": "ZWzxbVxUmmhy"
   },
   "outputs": [
    {
     "data": {
      "application/vnd.microsoft.datawrangler.viewer.v0+json": {
       "columns": [
        {
         "name": "index",
         "rawType": "object",
         "type": "string"
        },
        {
         "name": "0",
         "rawType": "int64",
         "type": "integer"
        }
       ],
       "ref": "bda1b501-ed80-4bf3-8ad0-6b82b999fc7d",
       "rows": [
        [
         "age",
         "0"
        ],
        [
         "job",
         "288"
        ],
        [
         "marital",
         "0"
        ],
        [
         "education",
         "1857"
        ],
        [
         "default",
         "0"
        ],
        [
         "balance",
         "0"
        ],
        [
         "housing",
         "0"
        ],
        [
         "loan",
         "0"
        ],
        [
         "contact",
         "13020"
        ],
        [
         "day_of_week",
         "0"
        ],
        [
         "month",
         "0"
        ],
        [
         "duration",
         "0"
        ],
        [
         "campaign",
         "0"
        ],
        [
         "pdays",
         "0"
        ],
        [
         "previous",
         "0"
        ],
        [
         "poutcome",
         "36959"
        ],
        [
         "y",
         "0"
        ]
       ],
       "shape": {
        "columns": 1,
        "rows": 17
       }
      },
      "text/plain": [
       "age                0\n",
       "job              288\n",
       "marital            0\n",
       "education       1857\n",
       "default            0\n",
       "balance            0\n",
       "housing            0\n",
       "loan               0\n",
       "contact        13020\n",
       "day_of_week        0\n",
       "month              0\n",
       "duration           0\n",
       "campaign           0\n",
       "pdays              0\n",
       "previous           0\n",
       "poutcome       36959\n",
       "y                  0\n",
       "dtype: int64"
      ]
     },
     "execution_count": 17,
     "metadata": {},
     "output_type": "execute_result"
    }
   ],
   "source": [
    "df.isnull().sum()\n"
   ]
  },
  {
   "cell_type": "code",
   "execution_count": 20,
   "metadata": {},
   "outputs": [
    {
     "data": {
      "application/vnd.microsoft.datawrangler.viewer.v0+json": {
       "columns": [
        {
         "name": "index",
         "rawType": "object",
         "type": "string"
        },
        {
         "name": "0",
         "rawType": "float64",
         "type": "float"
        }
       ],
       "ref": "e2db0d9f-c0ce-4b91-b23c-6d635bfdc2c1",
       "rows": [
        [
         "age",
         "0.0"
        ],
        [
         "job",
         "0.64"
        ],
        [
         "marital",
         "0.0"
        ],
        [
         "education",
         "4.11"
        ],
        [
         "default",
         "0.0"
        ],
        [
         "balance",
         "0.0"
        ],
        [
         "housing",
         "0.0"
        ],
        [
         "loan",
         "0.0"
        ],
        [
         "contact",
         "28.8"
        ],
        [
         "day_of_week",
         "0.0"
        ],
        [
         "month",
         "0.0"
        ],
        [
         "duration",
         "0.0"
        ],
        [
         "campaign",
         "0.0"
        ],
        [
         "pdays",
         "0.0"
        ],
        [
         "previous",
         "0.0"
        ],
        [
         "poutcome",
         "81.75"
        ],
        [
         "y",
         "0.0"
        ]
       ],
       "shape": {
        "columns": 1,
        "rows": 17
       }
      },
      "text/plain": [
       "age             0.00\n",
       "job             0.64\n",
       "marital         0.00\n",
       "education       4.11\n",
       "default         0.00\n",
       "balance         0.00\n",
       "housing         0.00\n",
       "loan            0.00\n",
       "contact        28.80\n",
       "day_of_week     0.00\n",
       "month           0.00\n",
       "duration        0.00\n",
       "campaign        0.00\n",
       "pdays           0.00\n",
       "previous        0.00\n",
       "poutcome       81.75\n",
       "y               0.00\n",
       "dtype: float64"
      ]
     },
     "execution_count": 20,
     "metadata": {},
     "output_type": "execute_result"
    }
   ],
   "source": [
    "(df.isnull().sum() / len(df) * 100).round(2)"
   ]
  },
  {
   "cell_type": "code",
   "execution_count": 41,
   "metadata": {},
   "outputs": [],
   "source": [
    "df = df.drop(\"poutcome\", axis = 1)"
   ]
  },
  {
   "cell_type": "code",
   "execution_count": 26,
   "metadata": {},
   "outputs": [
    {
     "data": {
      "application/vnd.microsoft.datawrangler.viewer.v0+json": {
       "columns": [
        {
         "name": "index",
         "rawType": "object",
         "type": "string"
        },
        {
         "name": "0",
         "rawType": "int64",
         "type": "integer"
        }
       ],
       "ref": "db685b14-05d9-4cdb-ad38-1f886a20d0c3",
       "rows": [
        [
         "age",
         "0"
        ],
        [
         "job",
         "0"
        ],
        [
         "marital",
         "0"
        ],
        [
         "education",
         "0"
        ],
        [
         "default",
         "0"
        ],
        [
         "balance",
         "0"
        ],
        [
         "housing",
         "0"
        ],
        [
         "loan",
         "0"
        ],
        [
         "contact",
         "0"
        ],
        [
         "day_of_week",
         "0"
        ],
        [
         "month",
         "0"
        ],
        [
         "duration",
         "0"
        ],
        [
         "campaign",
         "0"
        ],
        [
         "pdays",
         "0"
        ],
        [
         "previous",
         "0"
        ],
        [
         "poutcome",
         "36959"
        ],
        [
         "y",
         "0"
        ]
       ],
       "shape": {
        "columns": 1,
        "rows": 17
       }
      },
      "text/plain": [
       "age                0\n",
       "job                0\n",
       "marital            0\n",
       "education          0\n",
       "default            0\n",
       "balance            0\n",
       "housing            0\n",
       "loan               0\n",
       "contact            0\n",
       "day_of_week        0\n",
       "month              0\n",
       "duration           0\n",
       "campaign           0\n",
       "pdays              0\n",
       "previous           0\n",
       "poutcome       36959\n",
       "y                  0\n",
       "dtype: int64"
      ]
     },
     "execution_count": 26,
     "metadata": {},
     "output_type": "execute_result"
    }
   ],
   "source": [
    "col_con_missings = [\"job\", \"education\", \"contact\"]\n",
    "\n",
    "for col in col_con_missings:\n",
    "  df[col].fillna(\"unknown\")\n",
    "\n",
    "df.isnull().sum()"
   ]
  },
  {
   "cell_type": "markdown",
   "metadata": {
    "id": "-XDS7z9vRuln"
   },
   "source": [
    "\n",
    "\n",
    "\n",
    "---\n",
    "\n",
    "\n",
    "Las columnas:\n",
    "- job\n",
    "- education\n",
    "- contact\n",
    "- poutcome\n",
    "tienen observaciones faltantes. \n",
    "La variable \"poutcome\" tiene mas del 80% de las observaciones faltantes, por lo que un buen método de imputación es eliminar la columna.\n",
    "Las otras variables son categoricas, por lo que no pueden ser reemplazadas con la media. Una buena alternativa de imputación es reemplazafr los missings con \"unknown\".\n",
    "\n",
    "\n",
    "\n",
    "\n",
    "---"
   ]
  },
  {
   "cell_type": "markdown",
   "metadata": {
    "id": "indzFEcYKAFm"
   },
   "source": [
    "### Pregunta 1.2\n",
    "\n",
    "\n",
    "Genere histogramas de las variables categóricas desagregando por la variable objetivo de interés. Interprete las relaciones que observa.\n",
    "\n",
    "Responda: ¿Cuáles creen que son las variables categóricas más relevantes a la hora de determinar si el individuo hará un depósito?"
   ]
  },
  {
   "cell_type": "code",
   "execution_count": 46,
   "metadata": {
    "id": "m_jdPM2tmomq"
   },
   "outputs": [
    {
     "name": "stdout",
     "output_type": "stream",
     "text": [
      "8\n"
     ]
    },
    {
     "data": {
      "image/png": "[encoded data removed]",
      "text/plain": [
       "<Figure size 640x480 with 1 Axes>"
      ]
     },
     "metadata": {},
     "output_type": "display_data"
    },
    {
     "data": {
      "image/png": "[encoded data removed]",
      "text/plain": [
       "<Figure size 640x480 with 1 Axes>"
      ]
     },
     "metadata": {},
     "output_type": "display_data"
    },
    {
     "data": {
      "image/png": "[encoded data removed]",
      "text/plain": [
       "<Figure size 640x480 with 1 Axes>"
      ]
     },
     "metadata": {},
     "output_type": "display_data"
    },
    {
     "data": {
      "image/png": "[encoded data removed]",
      "text/plain": [
       "<Figure size 640x480 with 1 Axes>"
      ]
     },
     "metadata": {},
     "output_type": "display_data"
    },
    {
     "data": {
      "image/png": "[encoded data removed]",
      "text/plain": [
       "<Figure size 640x480 with 1 Axes>"
      ]
     },
     "metadata": {},
     "output_type": "display_data"
    },
    {
     "data": {
      "image/png": "[encoded data removed]",
      "text/plain": [
       "<Figure size 640x480 with 1 Axes>"
      ]
     },
     "metadata": {},
     "output_type": "display_data"
    },
    {
     "data": {
      "image/png": "[encoded data removed]",
      "text/plain": [
       "<Figure size 640x480 with 1 Axes>"
      ]
     },
     "metadata": {},
     "output_type": "display_data"
    },
    {
     "data": {
      "image/png": "[encoded data removed]",
      "text/plain": [
       "<Figure size 640x480 with 1 Axes>"
      ]
     },
     "metadata": {},
     "output_type": "display_data"
    }
   ],
   "source": [
    "import seaborn as sns\n",
    "import matplotlib.pyplot as plt\n",
    "\n",
    "var_categoricas = df.select_dtypes(include='object').columns.tolist()\n",
    "var_categoricas.remove(\"y\")\n",
    "\n",
    "for var in var_categoricas:\n",
    "    prop_df = pd.crosstab(df[var], df['y'], normalize='index') * 100\n",
    "\n",
    "    prop_df.plot(kind=\"bar\")\n",
    "    plt.title(f'Porcentaje de depósitos por {var}')\n",
    "    plt.xlabel(var)\n",
    "    plt.ylabel('Porcentaje')\n",
    "    plt.xticks(rotation=45)\n",
    "    plt.legend(title='Depósito')\n",
    "    plt.tight_layout()\n",
    "    plt.show()\n",
    "\n"
   ]
  },
  {
   "cell_type": "markdown",
   "metadata": {
    "id": "NmETbCcCRsbP"
   },
   "source": [
    "\n",
    "\n",
    "\n",
    "---\n",
    "\n",
    "\n",
    "*Escriba* su respuesta en esta celda...\n",
    "\n",
    "\n",
    "---"
   ]
  },
  {
   "cell_type": "markdown",
   "metadata": {
    "id": "jD0SNKf2JgUl"
   },
   "source": [
    "### Pregunta 1.3\n",
    "\n",
    "Identifique _outliers_ entre las variables numéricas del dataset. Además, impute estas observaciones si usted lo considera necesario. Justifique su decisión."
   ]
  },
  {
   "cell_type": "code",
   "execution_count": 64,
   "metadata": {
    "id": "2p7tjj6lmpqz"
   },
   "outputs": [
    {
     "data": {
      "image/png": "[encoded data removed]",
      "text/plain": [
       "<Figure size 600x400 with 1 Axes>"
      ]
     },
     "metadata": {},
     "output_type": "display_data"
    },
    {
     "name": "stdout",
     "output_type": "stream",
     "text": [
      "age\n",
      "Porcentaje Outliers: 487 (1.08%)\n"
     ]
    },
    {
     "data": {
      "image/png": "[encoded data removed]",
      "text/plain": [
       "<Figure size 600x400 with 1 Axes>"
      ]
     },
     "metadata": {},
     "output_type": "display_data"
    },
    {
     "name": "stdout",
     "output_type": "stream",
     "text": [
      "balance\n",
      "Porcentaje Outliers: 4729 (10.46%)\n"
     ]
    },
    {
     "data": {
      "image/png": "[encoded data removed]",
      "text/plain": [
       "<Figure size 600x400 with 1 Axes>"
      ]
     },
     "metadata": {},
     "output_type": "display_data"
    },
    {
     "name": "stdout",
     "output_type": "stream",
     "text": [
      "day_of_week\n",
      "Porcentaje Outliers: 0 (0.00%)\n"
     ]
    },
    {
     "data": {
      "image/png": "[encoded data removed]",
      "text/plain": [
       "<Figure size 600x400 with 1 Axes>"
      ]
     },
     "metadata": {},
     "output_type": "display_data"
    },
    {
     "name": "stdout",
     "output_type": "stream",
     "text": [
      "duration\n",
      "Porcentaje Outliers: 3235 (7.16%)\n"
     ]
    },
    {
     "data": {
      "image/png": "[encoded data removed]",
      "text/plain": [
       "<Figure size 600x400 with 1 Axes>"
      ]
     },
     "metadata": {},
     "output_type": "display_data"
    },
    {
     "name": "stdout",
     "output_type": "stream",
     "text": [
      "campaign\n",
      "Porcentaje Outliers: 3064 (6.78%)\n"
     ]
    },
    {
     "data": {
      "image/png": "[encoded data removed]",
      "text/plain": [
       "<Figure size 600x400 with 1 Axes>"
      ]
     },
     "metadata": {},
     "output_type": "display_data"
    },
    {
     "name": "stdout",
     "output_type": "stream",
     "text": [
      "pdays\n",
      "Porcentaje Outliers: 8257 (18.26%)\n"
     ]
    },
    {
     "data": {
      "image/png": "[encoded data removed]",
      "text/plain": [
       "<Figure size 600x400 with 1 Axes>"
      ]
     },
     "metadata": {},
     "output_type": "display_data"
    },
    {
     "name": "stdout",
     "output_type": "stream",
     "text": [
      "previous\n",
      "Porcentaje Outliers: 8257 (18.26%)\n"
     ]
    }
   ],
   "source": [
    "df_filtrado = df.copy()\n",
    "\n",
    "var_numericas = df.select_dtypes(include=['int64','float64']).columns.tolist()\n",
    "\n",
    "for var in var_numericas:\n",
    "\n",
    "    n = df_consolidado[var].sum() \n",
    "\n",
    "    plt.figure(figsize=(6, 4))\n",
    "    df_consolidado.boxplot(column=[var])\n",
    "    plt.title(f\"Boxplot de {var}\")\n",
    "    plt.xlabel(f\"{var} (n = {n})\")  # muestra el total en el eje x\n",
    "    plt.tight_layout()\n",
    "    plt.show()\n",
    "\n",
    "    datos = df_consolidado[var]\n",
    "    Q1 = datos.quantile(0.25)\n",
    "    Q3 = datos.quantile(0.75)\n",
    "    IQR = Q3 - Q1\n",
    "    lim_inf = Q1 - 1.5 * IQR\n",
    "    lim_sup = Q3 + 1.5 * IQR\n",
    "    \n",
    "    outliers = datos[(datos < lim_inf) | (datos > lim_sup)]\n",
    "    total = len(datos)\n",
    "    \n",
    "    print(var)\n",
    "    print(f\"Porcentaje Outliers: {len(outliers)} ({(len(outliers)/total)*100:.2f}%)\")\n",
    "\n"
   ]
  },
  {
   "cell_type": "code",
   "execution_count": 79,
   "metadata": {},
   "outputs": [
    {
     "name": "stdout",
     "output_type": "stream",
     "text": [
      "Número de observaciones en df original: 45211\n",
      "Número de observaciones en df filtrado (IQR): 28069 (0.6208444847492867)\n"
     ]
    }
   ],
   "source": [
    "df_filtrado = df.copy()\n",
    "\n",
    "for var in var_numericas:\n",
    "    Q1 = df_filtrado[var].quantile(0.25)\n",
    "    Q3 = df_filtrado[var].quantile(0.75)\n",
    "    IQR = Q3 - Q1\n",
    "    lim_inf = Q1 - 1.5 * IQR\n",
    "    lim_sup = Q3 + 1.5 * IQR\n",
    "\n",
    "    df_filtrado = df_filtrado[(df_filtrado[var] >= lim_inf) & (df_filtrado[var] <= lim_sup)]\n",
    "\n",
    "print(f\"Número de observaciones en df original: {df.shape[0]}\")\n",
    "print(f\"Número de observaciones en df filtrado (IQR): {df_filtrado.shape[0]} ({df_filtrado.shape[0]/df.shape[0]})\")\n"
   ]
  },
  {
   "cell_type": "code",
   "execution_count": 77,
   "metadata": {},
   "outputs": [
    {
     "name": "stdout",
     "output_type": "stream",
     "text": [
      "Outliers: 677\n",
      "Porcentaje de outliers: 1.5%\n",
      "Observaciones restantes: 44534\n"
     ]
    }
   ],
   "source": [
    "import matplotlib.pyplot as plt\n",
    "from sklearn.preprocessing import StandardScaler\n",
    "from sklearn.cluster import DBSCAN\n",
    "import pandas as pd\n",
    "\n",
    "df2 = df.copy()\n",
    "df3 = df.copy()\n",
    "\n",
    "X = df3.select_dtypes(include=[\"int64\"])\n",
    "\n",
    "# DBSCAN\n",
    "scaler = StandardScaler()\n",
    "X_scaled = scaler.fit_transform(X)\n",
    "\n",
    "x_dbscan = DBSCAN(eps=1.25, min_samples=5).fit(X_scaled)\n",
    "df3['cluster'] = x_dbscan.labels_\n",
    "\n",
    "outliers = df3[df3['cluster'] == -1]\n",
    "df3 = df3[df3['cluster'] != -1]\n",
    "\n",
    "df2 = df2.loc[df3.index]\n",
    "\n",
    "\n",
    "print(f\"Outliers: {len(outliers)}\")\n",
    "print(f\"Porcentaje de outliers: {round(len(outliers) / len(df) * 100, 2)}%\")\n",
    "print(f\"Observaciones restantes: {len(df3)}\")\n",
    "\n"
   ]
  },
  {
   "cell_type": "markdown",
   "metadata": {
    "id": "q9cmbj9IR-SH"
   },
   "source": [
    "\n",
    "\n",
    "\n",
    "---\n",
    "\n",
    "\n",
    "La primera metodologia que se analizó es eliminar las observaciones que esten fuera del IQR. Con esta metodología, un gran porcentaje de las observaciones son consideradas \"atípicas\", eliminando el 38% de las observaciones. \n",
    "Como alternativa se utilizó  DBSCAN, un algoritmo que busca detectar el ruido basado en densidades. Con esta metodología, se obtienen un 1,5% de outliers, un porcentaje común de outliers.\n",
    "\n",
    "\n",
    "---"
   ]
  },
  {
   "cell_type": "markdown",
   "metadata": {
    "id": "ZcIJt6BsBKLJ"
   },
   "source": [
    "## Feature Engineering"
   ]
  },
  {
   "cell_type": "markdown",
   "metadata": {
    "id": "eyoXfMGWtCKL"
   },
   "source": [
    "### Pregunta 1.4\n",
    "\n",
    " Cree un _pipeline_ de preprocesamiento con las siguientes transformaciones a las columnas correspondientes:\n",
    "\n",
    "*   **Columnas Numéricas** : Aplique un `StandardScaler` para estandarizar estas variables.\n",
    "*   **Columnas Categóricas No Binarias** : Aplique `OneHotEncoder` para crear variables dummy. Asegúrese de manejar posibles categorías desconocidas durante la transformación.\n",
    "*   **Columnas a Eliminar** : Elimine columnas que dejan de ser relavantes luego de las trasformaciones.\n",
    "*  **Columnas Dummies MultiNivel** : cree columnas dummies para las variables multi categoricas (tomando codificadas a 0s y 1s =, para su respctiva categoria)\n",
    "*  **Columnas Label Encoding MultiNivel** : Dentro de las columnas multinivel hay 2 columnas que presentan un orden natural. e.g. en la columna 'month' tenemos que 'jan' < 'feb' < 'dec'. Aplique en la columna 'month' y otra columna que deberá determinar usted un label encoder que capture ese ordenamiento natural, luego normalice con un minmax scaler para que las columnas varien entre 0 y 1.\n",
    "\n",
    "\n",
    "Una vez creado el pipeline, aplíquelo a su conjunto de features (`X`). Muestre la forma (_shape_) del dataset original y del dataset procesado para verificar los cambios. ¿Cuántas nuevas columnas hay?\n",
    "\n",
    "Adicionalmente, elimine del análisis la variable `day_of_week`. Si considera necesario realizar transformaciones adicionales a las variables, realicelas en este punto.\n",
    "\n"
   ]
  },
  {
   "cell_type": "code",
   "execution_count": 95,
   "metadata": {},
   "outputs": [
    {
     "name": "stdout",
     "output_type": "stream",
     "text": [
      "Variables binarias: ['default', 'housing', 'loan', 'y']\n",
      "Variables numéricas: ['age', 'balance', 'duration', 'campaign', 'pdays', 'previous']\n",
      "Variables categóricas binarias: ['job', 'marital', 'education', 'contact', 'month']\n",
      "Cantidad variables:  15\n"
     ]
    }
   ],
   "source": [
    "df2 = df2.drop(['cluster'], axis=1, errors='ignore')\n",
    "\n",
    "var_numericas = df2.select_dtypes(include=['int64', 'float64']).columns.to_list()\n",
    "var_binarias = [\"default\", \"housing\", \"loan\",\"y\"]\n",
    "var_categoricas = []\n",
    "var_multinivel = []\n",
    "\n",
    "for col in df2.select_dtypes(include='object').columns:\n",
    "    if col not in var_numericas and col not in var_binarias:\n",
    "        var_categoricas.append(col)\n",
    "\n",
    "var_numericas.remove(\"day_of_week\")\n",
    "\n",
    "month_order = ['jan', 'feb', 'mar', 'apr', 'may', 'jun',\n",
    "               'jul', 'aug', 'sep', 'oct', 'nov', 'dec']\n",
    "education_order = ['unknown', 'primary', 'secondary', 'tertiary']\n",
    "\n",
    "\n",
    "print(\"Variables binarias:\", var_binarias)\n",
    "print(\"Variables numéricas:\", var_numericas)\n",
    "print(\"Variables categóricas binarias:\", var_categoricas)\n",
    "print(\"Cantidad variables: \", len(var_binarias) + len(var_categoricas) + len(var_numericas) )\n"
   ]
  },
  {
   "cell_type": "code",
   "execution_count": 98,
   "metadata": {
    "id": "jpG6TxQJnFkV"
   },
   "outputs": [
    {
     "name": "stdout",
     "output_type": "stream",
     "text": [
      "Forma original: (44534, 16)\n",
      "Forma transformada: (44534, 44)\n",
      "        age   balance  duration  campaign     pdays  previous  job_admin.  \\\n",
      "0  1.630508  0.379412  0.031895  -0.58732 -0.404001 -0.340009         0.0   \n",
      "1  0.299003 -0.510575 -0.419522  -0.58732 -0.404001 -0.340009         0.0   \n",
      "2 -0.747179 -0.521942 -0.727306  -0.58732 -0.404001 -0.340009         0.0   \n",
      "3  0.584326  0.111237 -0.661645  -0.58732 -0.404001 -0.340009         0.0   \n",
      "4 -0.747179 -0.522363 -0.226644  -0.58732 -0.404001 -0.340009         0.0   \n",
      "\n",
      "   job_blue-collar  job_entrepreneur  job_housemaid  ...  month_jun  \\\n",
      "0              0.0               0.0            0.0  ...        0.0   \n",
      "1              0.0               0.0            0.0  ...        0.0   \n",
      "2              0.0               1.0            0.0  ...        0.0   \n",
      "3              1.0               0.0            0.0  ...        0.0   \n",
      "4              0.0               0.0            0.0  ...        0.0   \n",
      "\n",
      "   month_mar  month_may  month_nov  month_oct  month_sep  default  housing  \\\n",
      "0        0.0        1.0        0.0        0.0        0.0      0.0      1.0   \n",
      "1        0.0        1.0        0.0        0.0        0.0      0.0      1.0   \n",
      "2        0.0        1.0        0.0        0.0        0.0      0.0      1.0   \n",
      "3        0.0        1.0        0.0        0.0        0.0      0.0      1.0   \n",
      "4        0.0        1.0        0.0        0.0        0.0      0.0      0.0   \n",
      "\n",
      "   loan    y  \n",
      "0   0.0  0.0  \n",
      "1   0.0  0.0  \n",
      "2   1.0  0.0  \n",
      "3   0.0  0.0  \n",
      "4   0.0  0.0  \n",
      "\n",
      "[5 rows x 44 columns]\n"
     ]
    },
    {
     "name": "stderr",
     "output_type": "stream",
     "text": [
      "/var/folders/ff/xgr5z4017pq57dcr6cdj25m40000gn/T/ipykernel_98848/3630344965.py:9: FutureWarning: Downcasting behavior in `replace` is deprecated and will be removed in a future version. To retain the old behavior, explicitly call `result.infer_objects(copy=False)`. To opt-in to the future behavior, set `pd.set_option('future.no_silent_downcasting', True)`\n",
      "  return X.replace({'yes': 1, 'no': 0})\n"
     ]
    }
   ],
   "source": [
    "from sklearn.pipeline import Pipeline\n",
    "from sklearn.compose import ColumnTransformer\n",
    "from sklearn.preprocessing import StandardScaler, OneHotEncoder, FunctionTransformer, OrdinalEncoder, MinMaxScaler\n",
    "import pandas as pd\n",
    "import numpy as np\n",
    "\n",
    "# Función para mapear 'yes'/'no' a 1/0\n",
    "def map_binarias(X):\n",
    "    return X.replace({'yes': 1, 'no': 0})\n",
    "\n",
    "# Dividir datos\n",
    "X = df3\n",
    "\n",
    "\n",
    "# Obtener nombres OHE\n",
    "ohe_encoder = OneHotEncoder(handle_unknown='ignore', sparse_output=False)\n",
    "ohe_encoder.fit(X[var_categoricas])\n",
    "ohe_columns = ohe_encoder.get_feature_names_out(var_categoricas)\n",
    "\n",
    "columnas_finales = list(var_numericas) + list(ohe_columns) + var_binarias + var_multinivel\n",
    "\n",
    "# Preprocesador corregido\n",
    "preprocessor = ColumnTransformer([\n",
    "    ('numericas', StandardScaler(), var_numericas),\n",
    "    ('categoricas', OneHotEncoder(handle_unknown='ignore', sparse_output=False), var_categoricas),\n",
    "    ('binarias', FunctionTransformer(map_binarias, validate=False), var_binarias),\n",
    "    ('multinivel',  OrdinalEncoder(categories=[month_order, education_order]), var_multinivel)\n",
    "], remainder='drop')\n",
    "\n",
    "# Agregar nombres finales\n",
    "def agregar_nombres(X_array):\n",
    "    return pd.DataFrame(X_array, columns=columnas_finales)\n",
    "\n",
    "# Pipeline completo\n",
    "pipeline = Pipeline([\n",
    "    (\"preprocessor\", preprocessor),\n",
    "    (\"add_names\", FunctionTransformer(agregar_nombres, validate=False))\n",
    "])\n",
    "\n",
    "# Aplicar\n",
    "X_pipeline = pipeline.fit_transform(X)\n",
    "\n",
    "\n",
    "# Verificación\n",
    "print(\"Forma original:\", X.shape)\n",
    "print(\"Forma transformada:\", X_pipeline.shape)\n",
    "print(X_pipeline.head())\n"
   ]
  },
  {
   "cell_type": "markdown",
   "metadata": {
    "id": "8EwI7uxom8nn"
   },
   "source": [
    "## Modelos"
   ]
  },
  {
   "cell_type": "markdown",
   "metadata": {
    "id": "ulQ-zNFrJIBB"
   },
   "source": [
    "En esta sección aplicaremos los algoritmos de clasificación vistos en el curso. Específicamente, compararemos el rendimiento de los siguientes modelos:\n",
    "\n",
    "*   _Decision Tree Classifier_\n",
    "*   _Random Forest Classifier_\n",
    "*   _XGBoost Classifier_\n",
    "*   _Naïve Bayes_\n",
    "\n"
   ]
  },
  {
   "cell_type": "markdown",
   "metadata": {
    "id": "6OGw-SgYjQWY"
   },
   "source": [
    "### Pregunta 1.5\n",
    "\n",
    "Divida el conjunto de datos en conjuntos de entrenamiento y de prueba. Analice la distribución de la variable objetivo en ambos conjuntos para determinar si el conjunto de datos está balanceado o no.\n",
    "\n",
    "En caso de que el conjunto de datos no esté balanceado, asegúrese de que la división de _train_-_test_ respete el balance de las clases target para evitar que se genere un sesgo. Para esto, se recomienda leer la documentación oficial de la función `train_test_split()`: https://scikit-learn.org/stable/modules/generated/sklearn.model_selection.train_test_split.html.\n",
    "\n",
    "Use la semilla `random_state` = 123.\n"
   ]
  },
  {
   "cell_type": "code",
   "execution_count": 106,
   "metadata": {
    "id": "lyVrfsP4nM8w"
   },
   "outputs": [
    {
     "data": {
      "image/png": "[encoded data removed]",
      "text/plain": [
       "<Figure size 640x480 with 1 Axes>"
      ]
     },
     "metadata": {},
     "output_type": "display_data"
    }
   ],
   "source": [
    "from sklearn.model_selection import train_test_split\n",
    "\n",
    "X = X_pipeline.drop(columns=['y'])\n",
    "y = X_pipeline[\"y\"]\n",
    "\n",
    "X_train, X_test, y_train, y_test = train_test_split(X_pipeline, y, test_size=.2, random_state=123)\n",
    "\n",
    "import matplotlib.pyplot as plt\n",
    "import seaborn as sns\n",
    "\n",
    "import pandas as pd\n",
    "\n",
    "\n",
    "y_combined = pd.concat([\n",
    "    pd.DataFrame({'y': y_train, 'set': 'train'}),\n",
    "    pd.DataFrame({'y': y_test, 'set': 'test'})\n",
    "])\n",
    "\n",
    "sns.countplot(x='y', hue='set', data=y_combined, palette='hls')\n",
    "plt.title(\"Distribución de 'y'\")\n",
    "plt.xlabel(\"Clase\")\n",
    "plt.ylabel(\"Cantidad\")\n",
    "plt.show()\n",
    "\n",
    "\n",
    "\n"
   ]
  },
  {
   "cell_type": "markdown",
   "metadata": {},
   "source": [
    "Las clases estan claramente desbalanceadas. Un método para desbalancear es con SMOTE"
   ]
  },
  {
   "cell_type": "code",
   "execution_count": 110,
   "metadata": {},
   "outputs": [
    {
     "ename": "ModuleNotFoundError",
     "evalue": "No module named 'imblearn'",
     "output_type": "error",
     "traceback": [
      "\u001b[0;31m---------------------------------------------------------------------------\u001b[0m",
      "\u001b[0;31mModuleNotFoundError\u001b[0m                       Traceback (most recent call last)",
      "Cell \u001b[0;32mIn[110], line 1\u001b[0m\n\u001b[0;32m----> 1\u001b[0m \u001b[38;5;28;01mfrom\u001b[39;00m \u001b[38;5;21;01mimblearn\u001b[39;00m\u001b[38;5;21;01m.\u001b[39;00m\u001b[38;5;21;01mover_sampling\u001b[39;00m \u001b[38;5;28;01mimport\u001b[39;00m SMOTE\n\u001b[1;32m      3\u001b[0m smote \u001b[38;5;241m=\u001b[39m SMOTE(random_state\u001b[38;5;241m=\u001b[39m\u001b[38;5;241m123\u001b[39m)\n\u001b[1;32m      5\u001b[0m \u001b[38;5;66;03m# Aplicar SMOTE solo sobre el conjunto de entrenamiento\u001b[39;00m\n",
      "\u001b[0;31mModuleNotFoundError\u001b[0m: No module named 'imblearn'"
     ]
    }
   ],
   "source": [
    "from imblearn.over_sampling import SMOTE\n",
    "\n",
    "smote = SMOTE(random_state=123)\n",
    "\n",
    "# Aplicar SMOTE solo sobre el conjunto de entrenamiento\n",
    "X_train_resampled, y_train_resampled = smote.fit_resample(X_train, y_train)\n"
   ]
  },
  {
   "cell_type": "markdown",
   "metadata": {
    "id": "tf1V8SxqXIta"
   },
   "source": [
    "### Pregunta 1.6\n",
    "\n",
    "Entrene un árbol clasificador sin definir profundad máxima del árbol. Llamaremos a este, \"modelo no regularizado\".\n",
    "\n",
    "Asegúrese de que el modelo sea capaz de lidiar con potenciales desbalances. Para esto se recomienda leer la documentación oficial de la *clase* `DecisionTreeClassifier()` (parámetros de inicialización): https://scikit-learn.org/stable/modules/generated/sklearn.tree.DecisionTreeClassifier.html.\n",
    "\n",
    "\n",
    "Despliege el $F_1\\ Score$ del modelo sobre la base de entrenamiento. Luego, grafique una representación del árbol entrenado. ¿Qué puede decir sobre este modelo no regularizado?"
   ]
  },
  {
   "cell_type": "code",
   "execution_count": null,
   "metadata": {
    "id": "32kULv19nQQU"
   },
   "outputs": [],
   "source": []
  },
  {
   "cell_type": "markdown",
   "metadata": {
    "id": "BAMIFq5UqH2W"
   },
   "source": [
    "\n",
    "\n",
    "\n",
    "---\n",
    "\n",
    "\n",
    "*Escriba* su respuesta en esta celda...\n",
    "\n",
    "\n",
    "---\n"
   ]
  },
  {
   "cell_type": "markdown",
   "metadata": {
    "id": "k_AX7wJDq3UZ"
   },
   "source": [
    "### Pegunta 1.7\n",
    "\n",
    "En el contexto particular de una campaña de marketing, donde probablemente la mayoría de clientes no harán depósitos, es importante identificar correctamente tanto los clientes que harán depósitos (clase minoritaria), como los clientes que no harán depósitos.\n",
    "\n",
    "En el primer caso, falsos negativos implican un cliente peridido. En el segundo caso, falsos positivos implicarían un gasto de marketing innecesario en clientes que no son de interés. En este sentido, si clasificamos a todos los clientes como individuos que no harán depósitos, el _accuracy_ será muy alto, pero el costo económico será muy grande.\n",
    "\n",
    "Para penalizar tanto falsos positivos, como falsos negativos, a la vez que se busca maximizar los verdaderos positivos, nos enfocaremos en la métrica de _performance_ $F_1\\ Score$.\n",
    "\n",
    "Calcule el $F_1\\ Score$ de su árbol no regularizado con la muestra correcta. ¿Considera que es un buen valor? Comente."
   ]
  },
  {
   "cell_type": "code",
   "execution_count": null,
   "metadata": {
    "id": "smVSPni5nRi_"
   },
   "outputs": [],
   "source": []
  },
  {
   "cell_type": "markdown",
   "metadata": {
    "id": "OqTY4zudscvW"
   },
   "source": [
    "\n",
    "\n",
    "\n",
    "---\n",
    "\n",
    "\n",
    "*Escriba* su respuesta en esta celda...\n",
    "\n",
    "\n",
    "---\n"
   ]
  },
  {
   "cell_type": "markdown",
   "metadata": {
    "id": "AcswYuH7Xdg1"
   },
   "source": [
    "### Pregunta 1.8\n",
    "\n",
    "Entrene un árbol clasificador con profundad máxima del árbol igual a 16. Llamaremos a este, \"modelo levemente regularizado\". Asegúrese de que el modelo sea capaz de lidiar con potenciales desbalances. Luego, despliege el $F_1\\ Score$ del modelo sobre la base de entrenamiento.\n",
    "\n",
    "Grafique una representación del árbol entrenado. ¿Qué puede decir sobre este modelo no regularizado?"
   ]
  },
  {
   "cell_type": "code",
   "execution_count": null,
   "metadata": {
    "id": "JhJB3LWKnTMM"
   },
   "outputs": [],
   "source": []
  },
  {
   "cell_type": "markdown",
   "metadata": {
    "id": "igUoQFf0uSO6"
   },
   "source": [
    "\n",
    "\n",
    "\n",
    "---\n",
    "\n",
    "\n",
    "*Escriba* su respuesta en esta celda...\n",
    "\n",
    "\n",
    "---\n"
   ]
  },
  {
   "cell_type": "markdown",
   "metadata": {
    "id": "qriu9tcnXg6u"
   },
   "source": [
    "### Pregunta 1.9\n",
    "\n",
    "Entrene un árbol clasificador con profundad máxima del árbol igual a 8. Llamaremos a este, \"modelo regularizado\". Asegúrese de que el modelo sea capaz de lidiar con potenciales desbalances. Luego, despliege el $F_1\\ Score$ del modelo sobre la base de entrenamiento.\n",
    "\n",
    "Grafique una representación del árbol entrenado. ¿Qué puede decir sobre este modelo no regularizado?\n"
   ]
  },
  {
   "cell_type": "code",
   "execution_count": null,
   "metadata": {
    "id": "7QmyPe8znUqp"
   },
   "outputs": [],
   "source": []
  },
  {
   "cell_type": "markdown",
   "metadata": {
    "id": "T7cltnbzuUh3"
   },
   "source": [
    "\n",
    "\n",
    "\n",
    "---\n",
    "\n",
    "\n",
    "*Escriba* su respuesta en esta celda...\n",
    "\n",
    "\n",
    "---\n"
   ]
  },
  {
   "cell_type": "markdown",
   "metadata": {
    "id": "k9bcyzCaZffm"
   },
   "source": [
    "### Pregunta 1.10\n",
    "\n",
    "Entrene 20 árboles de clasificación. Cada uno de ellos debe estar entrenado fijando la profundidad máxima del árbol `max_depth` igual a $n \\in [1,20]$. Obtenga el $F_1\\ Score$ de cada árbol con la base de entrenamiento y la base de prueba.\n",
    "\n",
    "Gafique en una misma figura $F_1\\ Score$ de entrenamiento contra $n$ y $F_1\\ Score$ de prueba contra $n$ (Eje X = $n$). ¿Cuál parece ser el parámetro óptimo $n^*$ para el árbol? ¿Qué puede decir sobre el parámetro sobre _overfitting_ y generalización?"
   ]
  },
  {
   "cell_type": "code",
   "execution_count": null,
   "metadata": {
    "id": "CjoHit5KnWsv"
   },
   "outputs": [],
   "source": []
  },
  {
   "cell_type": "markdown",
   "metadata": {
    "id": "6E-Ky5A8v4IH"
   },
   "source": [
    "\n",
    "\n",
    "\n",
    "---\n",
    "\n",
    "\n",
    "*Escriba* su respuesta en esta celda...\n",
    "\n",
    "\n",
    "---\n"
   ]
  },
  {
   "cell_type": "markdown",
   "metadata": {
    "id": "agchEM5raz5v"
   },
   "source": [
    "### Pregunta 1.11\n",
    "\n",
    "En esta pregunta deberá entrenar _Random orest Classifier_ realizando un ejercicio previo de _hyperparameter tuning_.\n",
    "\n",
    "Realice _Cross Validation_ con un _folding_ con `K=5` y calcule $F_1\\ Score$ de todas las posibles combinaciones de los siguientes parámetros:\n",
    "\n",
    "- `n_estimators = {100, 1000}`\n",
    "- `max_depth = {10, 50, 100}`\n",
    "- `min_samples_leaf = {2, 4}`\n",
    "\n",
    "Determine la mejor combinación de parámetros y vuelva a entrenar su bosque con esta. Finalmente, reporte el $F_1\\ Score$ con la muestra de prueba.\n",
    "\n",
    "Cuando realice _Cross Validation_ y cuando entrene el modelo final, asegúrese de que el modelo sea capaz de lidiar con potenciales desbalances. Para esto se recomienda leer la documentación oficial de la *clase* `RandomForestClassifier()` (parámetros de inicialización): https://scikit-learn.org/stable/modules/generated/sklearn.ensemble.RandomForestClassifier.html.\n",
    "\n"
   ]
  },
  {
   "cell_type": "code",
   "execution_count": null,
   "metadata": {
    "id": "iC6DC3Dgncsi"
   },
   "outputs": [],
   "source": []
  },
  {
   "cell_type": "markdown",
   "metadata": {
    "id": "2pDSE54mcNnt"
   },
   "source": [
    "### Pregunta 1.12\n",
    "\n",
    "En esta pregunta deberá entrenar _XGBpost Classifier_ realizando un ejercicio previo de _hyperparameter tuning_.\n",
    "\n",
    "Repita el ejercicio de _Cross Validation_ anterior, pero está vez evaluando:\n",
    "\n",
    "- `n_estimators = {100, 1000}`\n",
    "- `max_depth = {5, 50, 100}`\n",
    "- `learning_rate = {0.05, 0.1, 0.5}`\n",
    "- `max_leaves= {2, 4, 10}`\n",
    "\n",
    "Determine la mejor combinación de parámetros y vuelva a entrenar su bosque con esta, reportando el $F_1\\ Score$ con la muestra de prueba.\n",
    "\n",
    "Asegúrese de que sus modelos sean capaces de lidiar con potenciales desbalances. Para esto se recomienda leer la documentación oficial de la *clase* `XGBClassifier()` (parámetros de inicialización): https://xgboost.readthedocs.io/en/latest/python/python_api.html.\n"
   ]
  },
  {
   "cell_type": "code",
   "execution_count": null,
   "metadata": {
    "id": "SvG3J1AQnbUO"
   },
   "outputs": [],
   "source": []
  },
  {
   "cell_type": "markdown",
   "metadata": {
    "id": "g13HiQpFdA-V"
   },
   "source": [
    "### Pregunta 1.13\n",
    "\n",
    "Entrene un modelo _Naïve Bayes_. Asegúrese de que el modelo sea capaz de lidiar con potenciales desbalances. Para esto se recomienda leer la documentación oficial de la *clase* `GaussianNB()` (parámetros de inicialización): https://scikit-learn.org/stable/modules/generated/sklearn.naive_bayes.GaussianNB.html.\n",
    "\n",
    "\n",
    "Despliege el $F_1\\ Score$ del modelo sobre la base de entrenamiento."
   ]
  },
  {
   "cell_type": "code",
   "execution_count": null,
   "metadata": {
    "id": "HkCforqvnfkg"
   },
   "outputs": [],
   "source": []
  },
  {
   "cell_type": "markdown",
   "metadata": {
    "id": "2JVF3ZyGS99s"
   },
   "source": [
    "\n",
    "\n",
    "---\n",
    "\n"
   ]
  },
  {
   "cell_type": "markdown",
   "metadata": {
    "id": "RuwabtbImhnz"
   },
   "source": [
    "## Análisis Comparativo de Modelos de Clasificación\n"
   ]
  },
  {
   "cell_type": "markdown",
   "metadata": {
    "id": "9NAcUq5Onk6C"
   },
   "source": [
    "### Pregunta 1.14\n",
    "\n",
    "Evalúe y compare el desempeño de los modelos teniendo en cuenta la naturaleza del conjunto de datos. ¿Cómo afectó el desbalance a cada modelo? ¿Qué modelo manejó mejor el balance o desbalance de clases y cuáles son sus conclusiones generales sobre su rendimiento comparado?\n",
    "\n",
    "Para que la comparación sea clara, es útil indicar qué métricas de evaluación utilizo para comparar los modelos (por ejemplo, F1-score, precisión, recall, AUC, etc.)."
   ]
  },
  {
   "cell_type": "code",
   "execution_count": null,
   "metadata": {
    "id": "PqKE6yd2nCxa"
   },
   "outputs": [],
   "source": []
  },
  {
   "cell_type": "markdown",
   "metadata": {
    "id": "t3GEwINDZqEp"
   },
   "source": [
    "\n",
    "\n",
    "\n",
    "---\n",
    "\n",
    "\n",
    "*Escriba* su respuesta en esta celda...\n",
    "\n",
    "\n",
    "---\n"
   ]
  },
  {
   "cell_type": "markdown",
   "metadata": {
    "id": "b0fVGE4KKrOp"
   },
   "source": [
    "# KMeans & PCA\n",
    "\n",
    "La guerra comercial desatada levanta un montón de preguntas de interés en economía. Una de estas es: ¿Qué países sufrirán de forma similar las consecuencias de esta? ¿Quiénes serían ganadores? ¿Quienes serían perdedores?\n",
    "\n",
    "En esta parte exploraremos el aporte que los métodos de Clustering de Machine Learning pueden hacer a la respuesta de esta cuestión. Nos enfocaremos en variables relacionadas al comercio exterior para determinar similitud entre grupos de países. Más específicamente, en variables relacionadas a las exportaciones.\n",
    "\n",
    "Para esto, considere las siguientes variables que describen el perfil exportador de cada país:\n",
    "\n",
    "- GDP growth (annual %)\n",
    "- Agricultural raw materials exports (% of merchandise exports)\n",
    "- Computer, communications and other services (% of commercial service exports)\n",
    "- Exports of goods and services (% of GDP)\n",
    "- Food exports (% of merchandise exports)\n",
    "- Fuel exports (% of merchandise exports)\n",
    "- High-technology exports (% of manufactured exports)\n",
    "- ICT service exports (% of service exports, BoP)\n",
    "- Insurance and financial services (% of service exports, BoP)\n",
    "- International tourism, receipts (% of total exports)\n",
    "- Manufactures exports (% of merchandise exports)\n",
    "- Merchandise exports to high-income economies (% of total merchandise exports)\n",
    "- Merchandise exports to low- and middle-income economies in Europe & Central Asia (% of total merchandise exports)\n",
    "- Ores and metals exports (% of merchandise exports)\n",
    "- Taxes on exports (% of tax revenue)\n",
    "- Transport services (% of commercial service exports)\n",
    "\n",
    "\n",
    "La idea será determinar similitud entre países y las variables qué son más relevantes a la hora de determinarla.\n",
    "\n",
    "Debido a que 2023 es el año reciente con una mayor riqueza de datos, y debido a que nos interesan cambios respecto al _status quo_ en el contexto actual, trabajaremos con datos sólo de aquel año."
   ]
  },
  {
   "cell_type": "markdown",
   "metadata": {
    "id": "liNZQhDaaAeb"
   },
   "source": [
    "Database Source: World bank & Trade Analysis Information System.\n",
    "\n"
   ]
  },
  {
   "cell_type": "markdown",
   "metadata": {
    "id": "w-wV02TUaEPl"
   },
   "source": [
    "### Pregunta 2.0\n",
    "\n",
    "Cargue la base de datos disponible en el siguiente link: https://raw.githubusercontent.com/olherreragz/EAE3709-2025-1/refs/heads/main/T2_data/Data.cs.\n",
    "\n",
    "En el siguiente link podrá encontrar información adicional sobre el _dataset_ por si lo llega a necesitar: https://github.com/olherreragz/EAE3709-2025-1/blob/main/T2_data/Series_Metadata.csv.\n",
    "\n",
    "Elimine las columnas `\"Series Code\"` y `\"Country Code\"`. Luego, transforme su _dataframe_ de formato _Long_ a _Wide_. Su _dataframe_ final deberá contener una columna que indique el nombre del país y columnas que indiquen la medida de exportación correspondiente:\n",
    "\n",
    "`<Country>, <SeriesName1>, <SeriesName2> ....`\n",
    "\n",
    "\n",
    "\n",
    "![Long to Wide Format](https://tavareshugo.github.io/r-intro-tidyverse-gapminder/fig/07-data_shapes.png)\n",
    "\n",
    "\n"
   ]
  },
  {
   "cell_type": "code",
   "execution_count": null,
   "metadata": {
    "id": "2aDqXfqMq7kb"
   },
   "outputs": [],
   "source": []
  },
  {
   "cell_type": "markdown",
   "metadata": {
    "id": "1Qh41mXqbU2j"
   },
   "source": [
    "### Pregunta 2.1\n",
    "\n",
    "Debido a que la pregunta de interés es sobre identificación de grupos de países, elime filas donde `Country Name` sea igual a cualquiera de los siguientes valores:\n",
    "\n",
    "- \"Africa Eastern and Southern\"  \n",
    "- \"Africa Western and Central\"  \n",
    "- \"Arab World\"  \n",
    "- \"Caribbean small states\"  \n",
    "- \"Central Europe and the Baltics\"  \n",
    "- \"Early-demographic dividend\"  \n",
    "- \"East Asia & Pacific\"  \n",
    "- \"East Asia & Pacific (IDA & IBRD countries)\"  \n",
    "- \"East Asia & Pacific (excluding high income)\"  \n",
    "- \"Euro area\"  \n",
    "- \"Europe & Central Asia\"  \n",
    "- \"Europe & Central Asia (IDA & IBRD countries)\"  \n",
    "- \"Europe & Central Asia (excluding high income)\"  \n",
    "- \"European Union\"  \n",
    "- \"Fragile and conflict affected situations\"  \n",
    "- \"Heavily indebted poor countries (HIPC)\"  \n",
    "- \"High income\"  \n",
    "- \"IBRD only\"  \n",
    "- \"IDA & IBRD total\"  \n",
    "- \"IDA blend\"  \n",
    "- \"IDA only\"  \n",
    "- \"IDA total\"  \n",
    "- \"Late-demographic dividend\"  \n",
    "- \"Latin America & Caribbean\"  \n",
    "- \"Latin America & Caribbean (excluding high income)\"  \n",
    "- \"Latin America & the Caribbean (IDA & IBRD countries)\"  \n",
    "- \"Least developed countries: UN classification\"  \n",
    "- \"Low & middle income\"  \n",
    "- \"Low income\"  \n",
    "- \"Lower middle income\"  \n",
    "- \"Middle East & North Africa\"  \n",
    "- \"Middle East & North Africa (IDA & IBRD countries)\"  \n",
    "- \"Middle East & North Africa (excluding high income)\"  \n",
    "- \"Middle income\"  \n",
    "- \"North America\"  \n",
    "- \"Not classified\"  \n",
    "- \"OECD members\"  \n",
    "- \"Other small states\"  \n",
    "- \"Pacific island small states\"  \n",
    "- \"Post-demographic dividend\"  \n",
    "- \"Pre-demographic dividend\"  \n",
    "- \"Small states\"  \n",
    "- \"South Asia\"  \n",
    "- \"South Asia (IDA & IBRD)\"  \n",
    "- \"Sub-Saharan Africa\"  \n",
    "- \"Sub-Saharan Africa (IDA & IBRD countries)\"  \n",
    "- \"Sub-Saharan Africa (excluding high income)\"  \n",
    "- \"Upper middle income\"  \n",
    "- \"World\"\n",
    "\n",
    "\n"
   ]
  },
  {
   "cell_type": "code",
   "execution_count": null,
   "metadata": {
    "id": "3s_ZAF_snmCI"
   },
   "outputs": [],
   "source": []
  },
  {
   "cell_type": "markdown",
   "metadata": {
    "id": "ofrLMQgZbnU-"
   },
   "source": [
    "### Pregunta 2.2\n",
    "\n",
    "Reemplace todos los valores `\"..\"` por `NA`. Luego, transforme las columnas a variables numéricas y despliegue estadísticas descriptivas.\n"
   ]
  },
  {
   "cell_type": "code",
   "execution_count": null,
   "metadata": {
    "id": "H4CthDucnoKJ"
   },
   "outputs": [],
   "source": []
  },
  {
   "cell_type": "markdown",
   "metadata": {
    "id": "0ZA1-qSlb9QR"
   },
   "source": [
    "### Pregunta 2.3\n",
    "\n",
    "Grafique la distribución empírica de todas las variables numéricas del dataset. Comente sobre cada una de ellas."
   ]
  },
  {
   "cell_type": "code",
   "execution_count": null,
   "metadata": {
    "id": "6VFd6S1bnpSA"
   },
   "outputs": [],
   "source": []
  },
  {
   "cell_type": "markdown",
   "metadata": {
    "id": "zx1BvF5mfFzl"
   },
   "source": [
    "\n",
    "\n",
    "\n",
    "---\n",
    "\n",
    "\n",
    "*Escriba* su respuesta en esta celda...\n",
    "\n",
    "\n",
    "---\n"
   ]
  },
  {
   "cell_type": "markdown",
   "metadata": {
    "id": "YTHSDT2ccQcc"
   },
   "source": [
    "## Missing Values"
   ]
  },
  {
   "cell_type": "markdown",
   "metadata": {
    "id": "cI_AR-AacScC"
   },
   "source": [
    "### Pregunta 2.4\n",
    "\n",
    "Realice análisis de valores vacíos y tratamiento de estos. Se premiará mantener el mayor número de observaciones posibles bajo criterios razonables. Luego de esta pregunta no deben quedar nulos en el _dataframe_ a utilizar.\n"
   ]
  },
  {
   "cell_type": "code",
   "execution_count": null,
   "metadata": {
    "id": "9fHxElRrnu07"
   },
   "outputs": [],
   "source": []
  },
  {
   "cell_type": "markdown",
   "metadata": {
    "id": "iUgaRkuEdioX"
   },
   "source": [
    "## Outliers"
   ]
  },
  {
   "cell_type": "markdown",
   "metadata": {
    "id": "nVe-WtBYdiUl"
   },
   "source": [
    "### Pregunta 2.5\n",
    "\n",
    "Realice análisis de datos _outliers_. De ser necesario aplique un procesamiento de outliers, de no ser necesario justifique.\n",
    "\n",
    "Se premiará el buen criterio fundamentado."
   ]
  },
  {
   "cell_type": "code",
   "execution_count": null,
   "metadata": {
    "id": "X9-79aNWd7ka"
   },
   "outputs": [],
   "source": []
  },
  {
   "cell_type": "markdown",
   "metadata": {
    "id": "uB_EWD0xeBEI"
   },
   "source": [
    "\n",
    "\n",
    "\n",
    "---\n",
    "\n",
    "\n",
    "*Escriba* su respuesta en esta celda...\n",
    "\n",
    "\n",
    "---\n"
   ]
  },
  {
   "cell_type": "markdown",
   "metadata": {
    "id": "4KtgZLAgeJ4S"
   },
   "source": [
    "## Feature Engineering\n"
   ]
  },
  {
   "cell_type": "markdown",
   "metadata": {
    "id": "RHRrwHCjeOQt"
   },
   "source": [
    "### Pregunta 2.6\n",
    "\n",
    "Realice _feature engineering_ de las variables numéricas (para luego entrenar un modelo _K-Means_ con estas). Realice los ajustes que estime conveniente, pero su tratamiento debe incluir por lo menos estandarización de las variables.\n",
    "\n",
    "Más adelante se le pedirá comentar sobre los resultados de sus modelos, por lo que considere que sus decisiones podrían condicionar futuras preguntas.\n",
    "\n"
   ]
  },
  {
   "cell_type": "code",
   "execution_count": null,
   "metadata": {
    "id": "v19_TyO6n29C"
   },
   "outputs": [],
   "source": []
  },
  {
   "cell_type": "markdown",
   "metadata": {
    "id": "B2wxZhGQe2DR"
   },
   "source": [
    "## K-Means"
   ]
  },
  {
   "cell_type": "markdown",
   "metadata": {
    "id": "0phACBFse5FQ"
   },
   "source": [
    "### Pregunta 2.7\n",
    "\n",
    "Considerando el dataframe completo (todas sus columnas atributos), determine el número óptimo de clusters mediante el \"Elbow method\". Considere un rango $k \\in [1, 30]$. Describa el comportamiento observado de la curva.\n",
    "\n"
   ]
  },
  {
   "cell_type": "code",
   "execution_count": null,
   "metadata": {
    "id": "sIVhrILyn5gf"
   },
   "outputs": [],
   "source": []
  },
  {
   "cell_type": "markdown",
   "metadata": {
    "id": "uHY07twufOzi"
   },
   "source": [
    "\n",
    "\n",
    "\n",
    "---\n",
    "\n",
    "\n",
    "*Escriba* su respuesta en esta celda...\n",
    "\n",
    "\n",
    "---\n"
   ]
  },
  {
   "cell_type": "markdown",
   "metadata": {
    "id": "4yazbr8afPbQ"
   },
   "source": [
    "### Pregunta 2.8\n",
    "\n",
    "Un problema habitual del modelo _K-Means_ es que pierde desempeño a mayor dimensionalidad.\n",
    "\n",
    "En esta pregunta defina **por lo menos 5 combinaciones de columnas** (mínimo 2 columnas y máximo 4). Para cada combinación determine el número óptimo de clusters mediante el \"Elbow method\" considerando $k \\in [1, 30]$.\n",
    "\n",
    "Un posible enfoque para lo anterior es tomar un _approach_ estadístico y escoger variables que empíricamente muestran mayores indicios de poder diferenciador entre las observaciones. De todas formas, recuerde que la pregunta de interés es \"¿qué países se verán expuestos de forma similar a la guerra comercial?\". En este sentido, es altamente recomendable escoger variables con una mayor relación al fenómeno de la guerra comercial, ya que puede ser útil para discernir de qué forma podría verse expuesto cada grupo.\n"
   ]
  },
  {
   "cell_type": "code",
   "execution_count": null,
   "metadata": {
    "id": "1TgUQ3qTn_1e"
   },
   "outputs": [],
   "source": []
  },
  {
   "cell_type": "markdown",
   "metadata": {
    "id": "DfCJ0UdsoKYv"
   },
   "source": [
    "---\n",
    "\n",
    "\n",
    "*Escriba* su respuesta en esta celda...\n",
    "\n",
    "\n",
    "---"
   ]
  },
  {
   "cell_type": "markdown",
   "metadata": {
    "id": "x-3BnLyGf6_d"
   },
   "source": [
    "### Pregunta 2.9\n",
    "\n",
    "Escoja la combinación de columnas que considera adecuada emplear, refiriéndose tanto al comportamiento observado de la curva, como al nivel de la métrica empleada al que se alcanza la convergencia.\n",
    "\n",
    "Estime el modelo con $k$ óptimo y las columnas escogidas. Visualice los grupos graficando _scatterplots_. Considere gráficos en 3 dimensiones si su modelo posee 3 o más variables.\n",
    "\n",
    "Describa en qué se diferencian los grupos encontrados y de qué manera le podría afectar la guerra comercial a cada uno. Liste una pequeña muestra representativa de los países que contiene cada grupo.\n"
   ]
  },
  {
   "cell_type": "code",
   "execution_count": null,
   "metadata": {
    "id": "Ykx7WhqYoDR8"
   },
   "outputs": [],
   "source": []
  },
  {
   "cell_type": "markdown",
   "metadata": {
    "id": "AYngTiIioLfC"
   },
   "source": [
    "---\n",
    "\n",
    "\n",
    "*Escriba* su respuesta en esta celda...\n",
    "\n",
    "\n",
    "---"
   ]
  },
  {
   "cell_type": "markdown",
   "metadata": {
    "id": "s22z7zCcgYvP"
   },
   "source": [
    "## PCA"
   ]
  },
  {
   "cell_type": "markdown",
   "metadata": {
    "id": "r1Yb5QW2kC8a"
   },
   "source": [
    "_PCA_ es una técnica de reducción de dimensionalidad que nos permite trabajar sobre un set de componentes principales ortogonales (mayor facilidad para los modelos a la hora de detectar patrones), además de permitirnos visualizar espacios multidimensionales, quedándonos sobre el espacio de PCA.\n",
    "\n"
   ]
  },
  {
   "cell_type": "markdown",
   "metadata": {
    "id": "dTURpbklkLYF"
   },
   "source": [
    "### Pregunta 2.10\n",
    "\n",
    "Utilizando todas las variables originales y $k$ óptimo escogido en la pregunta anterior, estime un PCA con 2 componentes principales. Luego, estime un modelo _K-Means_ sobre los componentes principales obtenidos. Grafique las observaciones en un _scatterplot_ de 2 dimensiones. Coloree los puntos usando los label de los clusters obtenidos.\n",
    "\n",
    "¿Cuáles son las principales diferencias entre los grupos? Encuentre las variables más definitivas a la hora de agrupar países con los 2 primeros componentes principales.\n"
   ]
  },
  {
   "cell_type": "code",
   "execution_count": null,
   "metadata": {
    "id": "raKFyPU1oQue"
   },
   "outputs": [],
   "source": []
  },
  {
   "cell_type": "markdown",
   "metadata": {
    "id": "FmUGY54-oRDz"
   },
   "source": [
    "---\n",
    "\n",
    "\n",
    "*Escriba* su respuesta en esta celda...\n",
    "\n",
    "\n",
    "---"
   ]
  },
  {
   "cell_type": "markdown",
   "metadata": {
    "id": "i1c8s2S1kev9"
   },
   "source": [
    "### Pregunta 2.11\n",
    "\n",
    "\n",
    "Repita lo anterior  (descripción incluida), pero con 3 componentes principales y un _scatterplot_ en 3 dimensiones."
   ]
  },
  {
   "cell_type": "code",
   "execution_count": null,
   "metadata": {
    "id": "b9mfhImWoTe3"
   },
   "outputs": [],
   "source": []
  },
  {
   "cell_type": "markdown",
   "metadata": {
    "id": "mEhG29aSoTke"
   },
   "source": [
    "---\n",
    "\n",
    "\n",
    "*Escriba* su respuesta en esta celda...\n",
    "\n",
    "\n",
    "---"
   ]
  },
  {
   "cell_type": "markdown",
   "metadata": {
    "id": "e-5FNbkDgaP5"
   },
   "source": [
    "### Pregunta 2.12\n",
    "\n",
    "Otro de los usos de los más comúnes de _PCA_, además de _feature engineering_, es la visualización. En esta sección utilizaremos _PCA_ para confirmar visualmente que estamos clusterizando países similares.\n",
    "\n",
    "Usando el diccionario en la celda de abajo agrega una columna de continente al _dataframe_ de trabajo."
   ]
  },
  {
   "cell_type": "code",
   "execution_count": null,
   "metadata": {
    "id": "xocjfeXfgehD"
   },
   "outputs": [],
   "source": [
    "country_continent_mapping = {\n",
    "    'Albania': 'Europe',\n",
    "    'Argentina': 'South America',\n",
    "    'Armenia': 'Asia',\n",
    "    'Aruba': 'North America', # Usually classified with the Caribbean\n",
    "    'Australia': 'Oceania',\n",
    "    'Austria': 'Europe',\n",
    "    'Azerbaijan': 'Asia',\n",
    "    'Bahrain': 'Asia',\n",
    "    'Belgium': 'Europe',\n",
    "    'Belize': 'North America',\n",
    "    'Bolivia': 'South America',\n",
    "    'Bosnia and Herzegovina': 'Europe',\n",
    "    'Botswana': 'Africa',\n",
    "    'Brazil': 'South America',\n",
    "    'Brunei Darussalam': 'Asia',\n",
    "    'Bulgaria': 'Europe',\n",
    "    'Burkina Faso': 'Africa',\n",
    "    'Cabo Verde': 'Africa',\n",
    "    'Canada': 'North America',\n",
    "    'Chile': 'South America',\n",
    "    'China': 'Asia',\n",
    "    'Colombia': 'South America',\n",
    "    'Congo Dem. Rep.': 'Africa',\n",
    "    'Costa Rica': 'North America',\n",
    "    'Croatia': 'Europe',\n",
    "    'Cyprus': 'Asia',\n",
    "    'Czechia': 'Europe',\n",
    "    'Denmark': 'Europe',\n",
    "    'Dominican Republic': 'North America',\n",
    "    'Ecuador': 'South America',\n",
    "    'Egypt': 'Africa', # Transcontinental, but usually Africa\n",
    "    'El Salvador': 'North America',\n",
    "    'Estonia': 'Europe',\n",
    "    'Ethiopia': 'Africa',\n",
    "    'Finland': 'Europe',\n",
    "    'France': 'Europe',\n",
    "    'Gambia': 'Africa',\n",
    "    'Georgia': 'Asia',\n",
    "    'Germany': 'Europe',\n",
    "    'Ghana': 'Africa',\n",
    "    'Greece': 'Europe',\n",
    "    'Guatemala': 'North America',\n",
    "    'Honduras': 'North America',\n",
    "    'Hong Kong': 'Asia',\n",
    "    'Hungary': 'Europe',\n",
    "    'Iceland': 'Europe',\n",
    "    'India': 'Asia',\n",
    "    'Indonesia': 'Asia',\n",
    "    'Ireland': 'Europe',\n",
    "    'Italy': 'Europe',\n",
    "    'Japan': 'Asia',\n",
    "    'Jordan': 'Asia',\n",
    "    'Kazakhstan': 'Asia', # Transcontinental, mostly Asia\n",
    "    'Kenya': 'Africa',\n",
    "    'Korea Rep.': 'Asia',\n",
    "    'Latvia': 'Europe',\n",
    "    'Lesotho': 'Africa',\n",
    "    'Lithuania': 'Europe',\n",
    "    'Luxembourg': 'Europe',\n",
    "    'Macao': 'Asia',\n",
    "    'Malaysia': 'Asia',\n",
    "    'Malta': 'Europe',\n",
    "    'Mauritania': 'Africa',\n",
    "    'Mauritius': 'Africa',\n",
    "    'Mexico': 'North America',\n",
    "    'Moldova': 'Europe',\n",
    "    'Montenegro': 'Europe',\n",
    "    'Morocco': 'Africa',\n",
    "    'Mozambique': 'Africa',\n",
    "    'Namibia': 'Africa',\n",
    "    'Netherlands': 'Europe',\n",
    "    'New Zealand': 'Oceania',\n",
    "    'Nicaragua': 'North America',\n",
    "    'Niger': 'Africa',\n",
    "    'North Macedonia': 'Europe',\n",
    "    'Norway': 'Europe',\n",
    "    'Pakistan': 'Asia',\n",
    "    'Panama': 'North America',\n",
    "    'Paraguay': 'South America',\n",
    "    'Peru': 'South America',\n",
    "    'Philippines': 'Asia',\n",
    "    'Poland': 'Europe',\n",
    "    'Portugal': 'Europe',\n",
    "    'Romania': 'Europe',\n",
    "    'Samoa': 'Oceania',\n",
    "    'Saudi Arabia': 'Asia',\n",
    "    'Senegal': 'Africa',\n",
    "    'Singapore': 'Asia',\n",
    "    'Slovak Republic': 'Europe',\n",
    "    'Slovenia': 'Europe',\n",
    "    'South Africa': 'Africa',\n",
    "    'Spain': 'Europe',\n",
    "    'Sri Lanka': 'Asia',\n",
    "    'Sweden': 'Europe',\n",
    "    'Switzerland': 'Europe',\n",
    "    'Tanzania': 'Africa',\n",
    "    'Thailand': 'Asia',\n",
    "    'Timor-Leste': 'Asia',\n",
    "    'Tunisia': 'Africa',\n",
    "    'Turkiye': 'Asia', # Transcontinental, mostly Asia\n",
    "    'Uganda': 'Africa',\n",
    "    'Ukraine': 'Europe',\n",
    "    'United Kingdom': 'Europe',\n",
    "    'United States': 'North America',\n",
    "    'Uruguay': 'South America',\n",
    "    'Uzbekistan': 'Asia',\n",
    "    'Zambia': 'Africa'\n",
    "}\n"
   ]
  },
  {
   "cell_type": "markdown",
   "metadata": {
    "id": "ZD63i3iqkzPJ"
   },
   "source": [
    "### Pregunta 2.13\n",
    "\n",
    "Realice un PCA de 2 componentes principales, grafique un _scatterplot_ del resultado y coloree cada punto según su continente. ¿Que se obserba?\n"
   ]
  },
  {
   "cell_type": "code",
   "execution_count": null,
   "metadata": {
    "id": "6b4jB-gMoeZF"
   },
   "outputs": [],
   "source": []
  },
  {
   "cell_type": "markdown",
   "metadata": {
    "id": "xktT1YAaoc0U"
   },
   "source": [
    "---\n",
    "\n",
    "\n",
    "*Escriba* su respuesta en esta celda...\n",
    "\n",
    "\n",
    "---"
   ]
  },
  {
   "cell_type": "markdown",
   "metadata": {
    "id": "b3y-DTSBk6fj"
   },
   "source": [
    "### Pregunta 2.14\n",
    "\n",
    "Genera el mismo gráfico anterior, pero ahora coloree los puntos del scatterplot usando los clusters de un KMeans de 3 clústers y `random_state=42`. Describa los clusters según el gráfico.\n",
    "\n"
   ]
  },
  {
   "cell_type": "code",
   "execution_count": null,
   "metadata": {
    "id": "GUd3NBLBogw8"
   },
   "outputs": [],
   "source": []
  },
  {
   "cell_type": "markdown",
   "metadata": {
    "id": "lDcgO6Kjog5d"
   },
   "source": [
    "---\n",
    "\n",
    "\n",
    "*Escriba* su respuesta en esta celda...\n",
    "\n",
    "\n",
    "---"
   ]
  },
  {
   "cell_type": "markdown",
   "metadata": {
    "id": "6DweNXvelFJf"
   },
   "source": [
    "### Pregunta 2.15\n",
    "\n",
    "¿Cual es la proporcion de cada cluster por continente?\n"
   ]
  },
  {
   "cell_type": "code",
   "execution_count": null,
   "metadata": {
    "id": "348X2JFCok78"
   },
   "outputs": [],
   "source": []
  },
  {
   "cell_type": "markdown",
   "metadata": {
    "id": "TGbwOcfilNON"
   },
   "source": [
    "### Pregunta 2.16\n",
    "\n",
    "¿Cuál es la característica numérica más alta en magnitud por cluster (usando sus centroides)? ¿Cuál es su signo? ¿Como nos ayuda a interpretar los clusters? ¿Que podemos concluir de cada uno de estos clusters en contexto de la guerra comercial?\n"
   ]
  },
  {
   "cell_type": "code",
   "execution_count": null,
   "metadata": {
    "id": "R-mbOcOQomp-"
   },
   "outputs": [],
   "source": []
  },
  {
   "cell_type": "markdown",
   "metadata": {
    "id": "3xP0vls6omw4"
   },
   "source": [
    "---\n",
    "\n",
    "\n",
    "*Escriba* su respuesta en esta celda...\n",
    "\n",
    "\n",
    "---"
   ]
  }
 ],
 "metadata": {
  "colab": {
   "provenance": [],
   "toc_visible": true
  },
  "kernelspec": {
   "display_name": "eae253",
   "language": "python",
   "name": "python3"
  },
  "language_info": {
   "codemirror_mode": {
    "name": "ipython",
    "version": 3
   },
   "file_extension": ".py",
   "mimetype": "text/x-python",
   "name": "python",
   "nbconvert_exporter": "python",
   "pygments_lexer": "ipython3",
   "version": "3.10.15"
  }
 },
 "nbformat": 4,
 "nbformat_minor": 0
}
